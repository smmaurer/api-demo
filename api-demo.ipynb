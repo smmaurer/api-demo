{
 "cells": [
  {
   "cell_type": "markdown",
   "metadata": {},
   "source": [
    "# Working with Data APIs\n",
    "\n",
    "**Sam Maurer // DCRP PhD Student // maurer@berkeley.edu // Oct. 7, 2015 // CP 255 demo**\n",
    "\n",
    "This notebook provides a demonstration of data-access APIs that operate over the web.\n",
    "\n",
    "In Part 1, we'll load and parse data from an automated USGS feed of earthquakes. In Part 2, we'll add query parameters to the workflow, using the Google Maps Geolocation API as an example. In Part 3, we'll use authenticated APIs to access (public) Twitter data. "
   ]
  },
  {
   "cell_type": "markdown",
   "metadata": {},
   "source": [
    "### Setup (not required until Part 3)\n",
    "\n",
    "1. **From the command line, install this Python package for connecting to Twitter APIs:**  \n",
    "   `pip install TwitterAPI`  \n",
    "     \n",
    "   There are several different package managers for Python. We're using \"pip install\" instead of \"conda install\" because Anaconda doesn't include this package in its index. The lab computers should already have TwitterAPI installed.  \n",
    "   &nbsp;\n",
    "\n",
    "2. **Make sure `keys.py` is in the same directory as this notebook**  \n",
    "     \n",
    "   `keys.py` (provided separately) contains demo authentication keys for the Twitter APIs. For folks not taking the class, you can edit the `keys-example.py` file, following the instructions in the next step to obtain your own credentials.  \n",
    "   &nbsp;\n",
    "   \n",
    "3. **OPTIONAL: Sign up for your own Twitter API credentials (5 minutes)**  \n",
    "     \n",
    "   Twitter limits the number of simultaneous connections from a single account, so if you're willing to sign up for your own credentials, it will help the in-class demo go smoother!  \n",
    "     \n",
    "   * Log into Twitter or create an account: http://twitter.com  \n",
    "     &nbsp;\n",
    "     \n",
    "   * Register a new app development project: https://dev.twitter.com/apps/new  \n",
    "     &nbsp;  \n",
    "     (The form is geared toward people making smartphone or web apps, but you still have to fill it out... You can call the app an in-class demo and give the URL of your own Twitter page, for example)  \n",
    "     &nbsp;\n",
    "     \n",
    "   * Submit the form, go to the \"Keys and Access Tokens\" tab, and click on \"Create my access token\" at the bottom of the page  \n",
    "     &nbsp;\n",
    "     \n",
    "   * Copy these four codes into the `keys.py` file, replacing the demo credentials:  \n",
    "     (a) consumer key, (b) consumer secret, (c) access token, (d) access token secret  \n",
    "     &nbsp;\n",
    "     \n",
    "   * All done! Try running the first few code blocks in Part 3 to see if it worked\n",
    "   \n",
    "----- \n",
    "\n",
    "-----"
   ]
  },
  {
   "cell_type": "markdown",
   "metadata": {},
   "source": [
    "# Part 1: Reading from an automated data feed\n",
    "\n",
    "### USGS real-time earthquake feeds\n",
    "\n",
    "This is an API for near-real-time data on earthquakes. Results are provided in JSON format over the web. No authentication is needed, and rather than accepting queries, the API has a separate endpoint for each permutation of the data that users might want.\n",
    "\n",
    "**API documentation:**  \n",
    "http://earthquake.usgs.gov/earthquakes/feed/v1.0/geojson.php\n",
    "\n",
    "**Sample API endpoint, for magnitude 4.5+ earthquakes in past day:**  \n",
    "http://earthquake.usgs.gov/earthquakes/feed/v1.0/summary/4.5_day.geojson  \n"
   ]
  },
  {
   "cell_type": "code",
   "execution_count": 1,
   "metadata": {
    "collapsed": true
   },
   "outputs": [],
   "source": [
    "%matplotlib inline\n",
    "\n",
    "import pandas as pd\n",
    "import urllib\n",
    "import json"
   ]
  },
  {
   "cell_type": "code",
   "execution_count": 2,
   "metadata": {
    "collapsed": false
   },
   "outputs": [
    {
     "name": "stdout",
     "output_type": "stream",
     "text": [
      "{\"type\":\"FeatureCollection\",\"metadata\":{\"generated\":1444117245000,\"url\":\"http://earthquake.usgs.gov/earthquakes/feed/v1.0/summary/2.5_week.geojson\",\"title\":\"USGS Magnitude 2.5+ Earthquakes, Past Week\",\"status\":200,\"api\":\"1.0.17\",\"count\":271},\"features\":[{\"type\":\"Feature\",\"properties\":{\"mag\":4.5,\"place\":\"18km N of Taltal, Chile\",\"time\":1444111652560,\"updated\":1444112990239,\"tz\":-180,\"url\":\"http://earthquake.usgs.gov/earthquakes/eventpage/us10003kms\",\"detail\":\"http://earthquake.usgs.gov/earthquake\n",
      "<type 'str'>\n"
     ]
    }
   ],
   "source": [
    "# use endpoint for magnitude 2.5+ quakes in past week\n",
    "endpoint_url = \"http://earthquake.usgs.gov/earthquakes/feed/v1.0/summary/2.5_week.geojson\"\n",
    "\n",
    "# open a connection to the URL\n",
    "connection = urllib.urlopen(endpoint_url)\n",
    "\n",
    "# download the results\n",
    "results = connection.read()\n",
    "\n",
    "print results[:500]  # first 500 characters\n",
    "print type(results)"
   ]
  },
  {
   "cell_type": "code",
   "execution_count": 3,
   "metadata": {
    "collapsed": false
   },
   "outputs": [
    {
     "name": "stdout",
     "output_type": "stream",
     "text": [
      "{u'geometry': {u'type': u'Point', u'coordinates': [-70.5042, -25.2359, 48.82]}, u'type': u'Feature', u'properties': {u'rms': 1.15, u'code': u'10003kms', u'cdi': 1, u'sources': u',us,', u'nst': None, u'tz': -180, u'title': u'M 4.5 - 18km N of Taltal, Chile', u'magType': u'mb', u'detail': u'http://earthquake.usgs.gov/earthquakes/feed/v1.0/detail/us10003kms.geojson', u'sig': 312, u'net': u'us', u'type': u'earthquake', u'status': u'reviewed', u'updated': 1444112990239, u'felt': 0, u'alert': None, u'dmin': 0.614, u'mag': 4.5, u'gap': 136, u'types': u',cap,dyfi,geoserve,nearby-cities,origin,phase-data,tectonic-summary,', u'url': u'http://earthquake.usgs.gov/earthquakes/eventpage/us10003kms', u'ids': u',us10003kms,', u'tsunami': 0, u'place': u'18km N of Taltal, Chile', u'time': 1444111652560, u'mmi': None}, u'id': u'us10003kms'}\n",
      "<type 'dict'>\n"
     ]
    }
   ],
   "source": [
    "# the results are a string with JSON-formatted data inside\n",
    "\n",
    "# parse the string into a Python data structure\n",
    "data = json.loads(results)\n",
    "\n",
    "print data['features'][0]  # first item from the array called 'features'\n",
    "print type(data)"
   ]
  },
  {
   "cell_type": "code",
   "execution_count": 4,
   "metadata": {
    "collapsed": false
   },
   "outputs": [
    {
     "name": "stdout",
     "output_type": "stream",
     "text": [
      "M 4.5 - 18km N of Taltal, Chile\n",
      "M 4.7 - 89km WSW of Coquimbo, Chile\n",
      "M 3.0 - 8km WNW of Anza, California\n",
      "M 2.7 - 9km NNW of Shelbyville, Kentucky\n",
      "M 4.6 - 84km W of Illapel, Chile\n",
      "M 4.2 - 70km NW of Rapar, India\n",
      "M 3.9 - 135km NE of Chignik Lake, Alaska\n",
      "M 2.7 - 54km ESE of Lovelock, Nevada\n",
      "M 4.1 - 69km WNW of La Ligua, Chile\n",
      "M 4.2 - 71km WNW of La Ligua, Chile\n",
      "M 2.5 - 68km ESE of Lakeview, Oregon\n",
      "M 2.7 - 68km ESE of Lakeview, Oregon\n",
      "M 2.6 - 8km SE of Pole Ojea, Puerto Rico\n",
      "M 2.6 - 23km N of Upper Lake, California\n",
      "M 2.8 - 23km W of Perry, Oklahoma\n",
      "M 5.7 - 74km N of Amatignak Island, Alaska\n",
      "M 4.7 - 158km WSW of Ovalle, Chile\n",
      "M 5.9 - 43km SSW of Coquimbo, Chile\n",
      "M 2.9 - 69km ESE of Lakeview, Oregon\n",
      "M 2.6 - 42km SSW of Larsen Bay, Alaska\n",
      "M 3.0 - 95km WSW of Healy, Alaska\n",
      "M 3.4 - 85km N of Road Town, British Virgin Islands\n",
      "M 2.5 - 54km E of Old Iliamna, Alaska\n",
      "M 3.0 - 94km WSW of Healy, Alaska\n",
      "M 2.9 - 83km W of Cantwell, Alaska\n",
      "M 4.5 - 32km N of Ramechhap, Nepal\n",
      "M 3.5 - 20km E of Cherokee, Oklahoma\n",
      "M 2.9 - 81km NNW of Talkeetna, Alaska\n",
      "M 4.7 - 200km SE of L'Esperance Rock, New Zealand\n",
      "M 4.1 - 57km WSW of Illapel, Chile\n",
      "M 4.2 - 47km WSW of Amatignak Island, Alaska\n",
      "M 3.0 - 48km WSW of Stella, Puerto Rico\n",
      "M 5.0 - Off the east coast of the North Island of New Zealand\n",
      "M 4.3 - 102km ESE of Iwaki, Japan\n",
      "M 4.6 - 43km N of Palue, Indonesia\n",
      "M 3.8 - 26km SSE of Boca de Yuma, Dominican Republic\n",
      "M 2.8 - 67km SW of Anchor Point, Alaska\n",
      "M 4.7 - 124km SSW of Kotaagung, Indonesia\n",
      "M 4.4 - 20km SE of Jarm, Afghanistan\n",
      "M 3.0 - 30km SE of Redoubt Volcano, Alaska\n",
      "M 2.6 - 9km SW of Honoka'a, Hawaii\n",
      "M 2.8 - 7km NNE of Helena, Oklahoma\n",
      "M 4.8 - South of the Fiji Islands\n",
      "M 4.9 - 81km NNE of Obelobel, Indonesia\n",
      "M 2.6 - 9km W of Templeton, California\n",
      "M 4.9 - 93km W of Ovalle, Chile\n",
      "M 4.6 - South of the Fiji Islands\n",
      "M 4.8 - 146km S of Bambanglipuro, Indonesia\n",
      "M 3.3 - 24km NE of Fritz Creek, Alaska\n",
      "M 2.9 - 12km SSW of Alberto Oviedo Mota, B.C., MX\n",
      "M 4.8 - 91km ENE of Hihifo, Tonga\n",
      "M 5.4 - 33km SSW of Lluta, Peru\n",
      "M 3.0 - 70km ESE of Lakeview, Oregon\n",
      "M 4.4 - 58km NW of San Antonio de los Cobres, Argentina\n",
      "M 3.3 - 71km ESE of Lakeview, Oregon\n",
      "M 4.7 - 100km NE of Chichi-shima, Japan\n",
      "M 3.1 - 90km NNW of Chirikof Island, Alaska\n",
      "M 5.2 - 63km W of Ovalle, Chile\n",
      "M 4.6 - 64km WSW of Ovalle, Chile\n",
      "M 4.7 - 205km ESE of Antonio Enes, Mozambique\n",
      "M 3.0 - 90km NNW of Road Town, British Virgin Islands\n",
      "M 2.8 - 100km W of Willow, Alaska\n",
      "M 4.6 - South of the Fiji Islands\n",
      "M 2.6 - 71km N of Tierras Nuevas Poniente, Puerto Rico\n",
      "M 2.6 - 6km N of Edmond, Oklahoma\n",
      "M 2.9 - 45km W of Rincon, Puerto Rico\n",
      "M 4.7 - 20km NNE of Taniwel, Indonesia\n",
      "M 2.8 - 73km N of Tierras Nuevas Poniente, Puerto Rico\n",
      "M 3.3 - 8km NNE of Helena Valley Northwest, Montana\n",
      "M 5.3 - 85km WSW of Coquimbo, Chile\n",
      "M 2.9 - 8km NNE of Helena Valley Northwest, Montana\n",
      "M 4.5 - 207km WSW of Abepura, Indonesia\n",
      "M 2.6 - 50km NE of Road Town, British Virgin Islands\n",
      "M 2.6 - 14km SSE of Yosemite Valley, California\n",
      "M 2.7 - 21km NW of Ludlow, California\n",
      "M 3.9 - 172km W of Illapel, Chile\n",
      "M 4.1 - 30km SE of Al Marj, Libya\n",
      "M 2.8 - 6km N of Waikoloa, Hawaii\n",
      "M 2.7 - 19km SSE of Pahala, Hawaii\n",
      "M 2.7 - 6km N of Waikoloa, Hawaii\n",
      "M 4.6 - 86km SW of Canete, Chile\n",
      "M 4.3 - 53km N of La Serena, Chile\n",
      "M 4.4 - 62km ESE of Ishinomaki, Japan\n",
      "M 4.2 - 31km SW of Ovalle, Chile\n",
      "M 4.1 - 49km W of Ovalle, Chile\n",
      "M 2.8 - 10km S of Anthony, Kansas\n",
      "M 2.6 - 27km ENE of Road Town, British Virgin Islands\n",
      "M 2.6 - 19km SSE of Ridgemark, California\n",
      "M 4.9 - 29km SE of Nago, Japan\n",
      "M 2.5 - 49km NE of Road Town, British Virgin Islands\n",
      "M 2.5 - 27km SSW of Healy, Alaska\n",
      "M 4.5 - 43km WNW of Coquimbo, Chile\n",
      "M 4.9 - 198km NW of Tanahmerah, Indonesia\n",
      "M 2.6 - 7km NNE of Helena Valley Northwest, Montana\n",
      "M 2.8 - 64km SSW of Redoubt Volcano, Alaska\n",
      "M 2.9 - 6km ESE of Perry, Oklahoma\n",
      "M 4.9 - 43km WNW of Coquimbo, Chile\n",
      "M 4.9 - Indian Ocean Triple Junction\n",
      "M 4.7 - 126km W of Illapel, Chile\n",
      "M 5.4 - Indian Ocean Triple Junction\n",
      "M 2.8 - 45km NNE of Road Town, British Virgin Islands\n",
      "M 4.9 - 99km SSW of Biha, Indonesia\n",
      "M 5.0 - Northern Mid-Atlantic Ridge\n",
      "M 4.6 - 76km SW of Puerto Madero, Mexico\n",
      "M 5.8 - 45km SSW of Coquimbo, Chile\n",
      "M 5.6 - 17km N of Lebu, Chile\n",
      "M 2.5 - 30km NW of Rincon, Puerto Rico\n",
      "M 2.6 - 10km NE of Helena, Oklahoma\n",
      "M 2.7 - 11km SE of Esperanza, Puerto Rico\n",
      "M 4.3 - 22km NE of Agar, China\n",
      "M 4.4 - 111km E of Gualaquiza, Ecuador\n",
      "M 3.0 - 21km NW of Hawthorne, Nevada\n",
      "M 3.3 - 10km NW of Caldwell, Kansas\n",
      "M 4.4 - 59km WNW of Valparaiso, Chile\n",
      "M 5.1 - 188km SSE of L'Esperance Rock, New Zealand\n",
      "M 4.6 - 165km ENE of Olonkinbyen, Svalbard and Jan Mayen\n",
      "M 2.6 - 35km W of Kenai, Alaska\n",
      "M 4.4 - 183km ENE of Olonkinbyen, Svalbard and Jan Mayen\n",
      "M 4.3 - 61km SSE of Vanimo, Papua New Guinea\n",
      "M 4.3 - 38km SW of San Antonio, Chile\n",
      "M 3.0 - 3km SSE of Perry, Oklahoma\n",
      "M 2.5 - 125km WNW of Talkeetna, Alaska\n",
      "M 4.0 - 55km SSW of Ovalle, Chile\n",
      "M 3.1 - 5km SSE of Circle Hot Springs Station, Alaska\n",
      "M 4.5 - 100km W of Ambunti, Papua New Guinea\n",
      "M 3.3 - 144km NNE of Road Town, British Virgin Islands\n",
      "M 4.2 - 4km SSW of Izumi, Japan\n",
      "M 3.4 - 102km N of San Juan, Puerto Rico\n",
      "M 3.3 - 92km N of San Juan, Puerto Rico\n",
      "M 2.9 - 13km E of Pahala, Hawaii\n",
      "M 2.5 - 14km E of Pahala, Hawaii\n",
      "M 2.7 - 124km NW of Talkeetna, Alaska\n",
      "M 5.2 - 162km WSW of Ovalle, Chile\n",
      "M 5.1 - 73km W of Ovalle, Chile\n",
      "M 4.5 - 37km WSW of Ashkasham, Afghanistan\n",
      "M 5.5 - 15km ESE of Tondano, Indonesia\n",
      "M 4.5 - 94km WNW of La Ligua, Chile\n",
      "M 3.4 - 1km WNW of Campanilla, Puerto Rico\n",
      "M 3.2 - 66km WSW of Anchor Point, Alaska\n",
      "M 3.2 - 6km NNW of Stroud, Oklahoma\n",
      "M 2.7 - 9km NW of Ferndale, California\n",
      "M 4.6 - 33km SW of Hakha, Burma\n",
      "M 2.5 - 43km E of Cape Yakataga, Alaska\n",
      "M 4.3 - 25km SSW of El Rosario, El Salvador\n",
      "M 3.1 - 11km SE of Esperanza, Puerto Rico\n",
      "M 2.8 - 62km N of San Juan, Puerto Rico\n",
      "M 2.8 - 11km SE of Esperanza, Puerto Rico\n",
      "M 4.6 - 14km E of Coihueco, Chile\n",
      "M 2.9 - 9km SE of Esperanza, Puerto Rico\n",
      "M 2.8 - 9km SE of Esperanza, Puerto Rico\n",
      "M 2.9 - 7km ESE of Esperanza, Puerto Rico\n",
      "M 2.5 - 47km NNE of Vieques, Puerto Rico\n",
      "M 2.9 - 0km SW of Pawnee, Oklahoma\n",
      "M 2.9 - 33km ESE of Vieques, Puerto Rico\n",
      "M 2.8 - 34km SSE of Culebra, Puerto Rico\n",
      "M 2.6 - 0km ESE of Pawnee, Oklahoma\n",
      "M 3.8 - 13km ENE of Helena, Oklahoma\n",
      "M 2.7 - 18km E of Anchorage, Alaska\n",
      "M 4.2 - 18km SE of Esperanza, Puerto Rico\n",
      "M 4.6 - 81km N of Dobo, Indonesia\n",
      "M 5.4 - 31km S of Hihifo, Tonga\n",
      "M 4.6 - 12km S of Antsahe, Comoros\n",
      "M 2.7 - 0km E of Irving, Texas\n",
      "M 3.0 - 71km ESE of Lakeview, Oregon\n",
      "M 4.9 - 40km NW of Lluta, Peru\n",
      "M 4.5 - 60km ENE of Petite Riviere Salee, Martinique\n",
      "M 4.2 - 9km ENE of Quepos, Costa Rica\n",
      "M 2.5 - 27km W of Medford, Oklahoma\n",
      "M 4.1 - 50km WNW of Valparaiso, Chile\n",
      "M 2.8 - 12km SE of Alva, Oklahoma\n",
      "M 4.4 - 4km NE of Ishikawa, Japan\n",
      "M 2.9 - 39km NE of Luquillo, Puerto Rico\n",
      "M 3.1 - 55km NNE of Road Town, British Virgin Islands\n",
      "M 2.6 - 46km S of Redoubt Volcano, Alaska\n",
      "M 2.5 - 89km NW of Talkeetna, Alaska\n",
      "M 3.2 - 5km SE of Perry, Oklahoma\n",
      "M 2.7 - 6km WSW of Alberto Oviedo Mota, B.C., MX\n",
      "M 3.1 - 54km ESE of Road Town, British Virgin Islands\n",
      "M 2.7 - 61km NNE of Coldfoot, Alaska\n",
      "M 3.7 - 6km SE of Perry, Oklahoma\n",
      "M 2.9 - 69km ESE of Lakeview, Oregon\n",
      "M 2.7 - 21km ENE of Goldfield, Nevada\n",
      "M 4.4 - 103km WSW of Illapel, Chile\n",
      "M 5.6 - 139km SSW of Biha, Indonesia\n",
      "M 4.6 - 71km WSW of Coquimbo, Chile\n",
      "M 2.8 - 1km N of Fuig, Puerto Rico\n",
      "M 4.7 - 142km NE of San Pedro de Atacama, Chile\n",
      "M 4.5 - 116km W of Hihifo, Tonga\n",
      "M 5.3 - 86km SSW of Biha, Indonesia\n",
      "M 4.2 - 87km WNW of Ovalle, Chile\n",
      "M 4.4 - 35km WSW of Ovalle, Chile\n",
      "M 4.2 - 49km SSE of Jahrom, Iran\n",
      "M 3.3 - 98km S of Atka, Alaska\n",
      "M 4.4 - 94km W of Illapel, Chile\n",
      "M 2.9 - 24km WNW of Fairview, Oklahoma\n",
      "M 2.5 - 5km SE of Perry, Oklahoma\n",
      "M 4.2 - 50km W of Ovalle, Chile\n",
      "M 5.5 - 36km ESE of Tres Palos, Mexico\n",
      "M 2.6 - 4km NE of Langston, Oklahoma\n",
      "M 5.7 - 60km NNW of Visokoi Island, South Georgia and the South Sandwich Islands\n",
      "M 4.5 - 260km SE of Lambasa, Fiji\n",
      "M 2.8 - 4km NE of Langston, Oklahoma\n",
      "M 2.9 - 20km W of Perry, Oklahoma\n",
      "M 3.8 - 54km ESE of Boca de Yuma, Dominican Republic\n",
      "M 4.5 - Northern East Pacific Rise\n",
      "M 2.5 - 74km E of Chernabura Island, Alaska\n",
      "M 3.5 - 77km E of Chernabura Island, Alaska\n",
      "M 2.6 - 11km S of Alva, Oklahoma\n",
      "M 2.5 - 91km W of Ferndale, California\n",
      "M 3.3 - 120km N of Brenas, Puerto Rico\n",
      "M 2.8 - 36km SSE of Amukta Island, Alaska\n",
      "M 4.7 - 275km SE of Hachijo-jima, Japan\n",
      "M 2.6 - 16km W of Wellington, Kansas\n",
      "M 3.0 - 6km SSE of Cherokee, Oklahoma\n",
      "M 2.6 - 9km SSW of Amukta Island, Alaska\n",
      "M 3.0 - 75km SSW of Unalaska, Alaska\n",
      "M 2.5 - 23km E of Cherokee, Oklahoma\n",
      "M 2.8 - 89km E of Akutan, Alaska\n",
      "M 2.7 - 25km E of Cherokee, Oklahoma\n",
      "M 5.0 - 150km SW of Panguna, Papua New Guinea\n",
      "M 4.8 - 49km W of Ovalle, Chile\n",
      "M 4.8 - 227km SE of L'Esperance Rock, New Zealand\n",
      "M 3.8 - 49km W of Ovalle, Chile\n",
      "M 4.1 - 135km S of Atka, Alaska\n",
      "M 2.5 - 54km N of Amatignak Island, Alaska\n",
      "M 2.7 - 10km SW of Charleston, Missouri\n",
      "M 4.7 - 58km WNW of Illapel, Chile\n",
      "M 3.1 - 7km ENE of Greater Sudbury, Canada\n",
      "M 4.4 - 85km W of Kashi, China\n",
      "M 2.6 - 6km SE of Perry, Oklahoma\n",
      "M 5.4 - 42km W of Abepura, Indonesia\n",
      "M 3.3 - 10km NNE of Helena, Oklahoma\n",
      "M 2.5 - 10km NNE of Helena, Oklahoma\n",
      "M 2.7 - 18km NE of Fairview, Oklahoma\n",
      "M 2.6 - 17km SW of Amukta Island, Alaska\n",
      "M 5.2 - 181km SSW of Lorengau, Papua New Guinea\n",
      "M 4.2 - 5km WNW of Hualian, Taiwan\n",
      "M 4.8 - 143km ENE of Bathsheba, Barbados\n",
      "M 2.5 - 13km WSW of Little Sitkin Island, Alaska\n",
      "M 5.0 - 63km ESE of Tobelo, Indonesia\n",
      "M 4.5 - 83km W of Illapel, Chile\n",
      "M 4.5 - 60km NE of Barkhan, Pakistan\n",
      "M 4.7 - 138km ENE of Bathsheba, Barbados\n",
      "M 4.1 - 1km NE of Nereju, Romania\n",
      "M 5.4 - 121km SSW of Kokopo, Papua New Guinea\n",
      "M 4.2 - 21km NW of El Hoyo, Argentina\n",
      "M 2.7 - 11km SE of Esperanza, Puerto Rico\n",
      "M 2.6 - 72km SW of Nikolski, Alaska\n",
      "M 5.0 - 22km SSW of Lazaro Cardenas, Mexico\n",
      "M 2.7 - 23km NE of Soledad, California\n",
      "M 3.1 - 68km SE of Adak, Alaska\n",
      "M 4.8 - 37km WNW of Sola, Vanuatu\n",
      "M 4.9 - 81km WNW of Tobelo, Indonesia\n",
      "M 4.7 - 105km WSW of Tual, Indonesia\n",
      "M 4.7 - 48km W of Valparaiso, Chile\n",
      "M 4.1 - 48km W of Valparaiso, Chile\n",
      "M 4.5 - 157km ENE of Bathsheba, Barbados\n",
      "M 3.1 - 6km NE of Helena, Oklahoma\n",
      "M 2.7 - 13km NW of Progreso, B.C., MX\n",
      "M 4.3 - South of the Fiji Islands\n",
      "M 4.7 - 139km E of Yamada, Japan\n",
      "M 2.7 - 74km NW of Aguadilla, Puerto Rico\n",
      "M 4.2 - 26km E of Nagarkot, Nepal\n",
      "M 4.4 - 91km WNW of Illapel, Chile\n",
      "M 4.5 - 23km NW of Dharchula, India\n",
      "M 4.9 - 38km SSW of Tympakion, Greece\n",
      "M 2.8 - 143km SE of Akutan, Alaska\n",
      "M 5.0 - 172km ENE of Miyako, Japan\n",
      "M 2.7 - 18km WNW of Culebra, Puerto Rico\n",
      "M 2.7 - 34km WNW of Big Lake, Alaska\n",
      "M 2.7 - 90km SSE of Nikolski, Alaska\n"
     ]
    }
   ],
   "source": [
    "# pull out the event descriptions\n",
    "\n",
    "for quake in data['features']:\n",
    "    print quake['properties']['title']"
   ]
  },
  {
   "cell_type": "code",
   "execution_count": 5,
   "metadata": {
    "collapsed": false
   },
   "outputs": [
    {
     "name": "stdout",
     "output_type": "stream",
     "text": [
      "271\n"
     ]
    }
   ],
   "source": [
    "# pull out magnitudes and depths into a pandas dataframe\n",
    "\n",
    "# first, set up a dictionary of empty arrays\n",
    "d = {'magnitude': [], 'depth': []}\n",
    "\n",
    "# loop through the earthquakes and pull out datapoints\n",
    "for quake in data['features']:\n",
    "    d['magnitude'].append(quake['properties']['mag'])\n",
    "    d['depth'].append(quake['geometry']['coordinates'][2])\n",
    "\n",
    "# then load it all into a dataframe\n",
    "df = pd.DataFrame.from_dict(d)\n",
    "\n",
    "print len(df)"
   ]
  },
  {
   "cell_type": "code",
   "execution_count": 6,
   "metadata": {
    "collapsed": false
   },
   "outputs": [
    {
     "name": "stdout",
     "output_type": "stream",
     "text": [
      "   depth  magnitude\n",
      "0  48.82       4.50\n",
      "1   9.52       4.70\n",
      "2  11.18       2.97\n",
      "3   4.09       2.65\n",
      "4  26.07       4.60\n"
     ]
    }
   ],
   "source": [
    "print df.head()"
   ]
  },
  {
   "cell_type": "code",
   "execution_count": 7,
   "metadata": {
    "collapsed": false
   },
   "outputs": [
    {
     "name": "stdout",
     "output_type": "stream",
     "text": [
      "            depth   magnitude\n",
      "count  271.000000  271.000000\n",
      "mean    47.696137    3.713764\n",
      "std     86.620288    0.976404\n",
      "min      0.000000    2.500000\n",
      "25%     10.000000    2.800000\n",
      "50%     19.300000    3.500000\n",
      "75%     47.740000    4.600000\n",
      "max    559.030000    5.900000\n"
     ]
    }
   ],
   "source": [
    "print df.describe()"
   ]
  },
  {
   "cell_type": "code",
   "execution_count": 8,
   "metadata": {
    "collapsed": false
   },
   "outputs": [
    {
     "data": {
      "text/plain": [
       "<matplotlib.axes._subplots.AxesSubplot at 0x10442c810>"
      ]
     },
     "execution_count": 8,
     "metadata": {},
     "output_type": "execute_result"
    },
    {
     "data": {
      "image/png": "[encoded data removed]",
      "text/plain": [
       "<matplotlib.figure.Figure at 0x107fbd610>"
      ]
     },
     "metadata": {},
     "output_type": "display_data"
    }
   ],
   "source": [
    "# plot the depth vs. magnitude\n",
    "\n",
    "df.plot(x='magnitude', y='depth', kind='scatter')"
   ]
  },
  {
   "cell_type": "code",
   "execution_count": null,
   "metadata": {
    "collapsed": false
   },
   "outputs": [],
   "source": [
    "# save dataframe to disk\n",
    "\n",
    "df.to_csv('usgs_earthquake_data.csv')\n",
    "\n",
    "print 'file saved'"
   ]
  },
  {
   "cell_type": "code",
   "execution_count": null,
   "metadata": {
    "collapsed": false
   },
   "outputs": [],
   "source": [
    "# read it back later\n",
    "\n",
    "new_df = pd.DataFrame.from_csv('usgs_earthquake_data.csv')\n",
    "\n",
    "print new_df.head()"
   ]
  },
  {
   "cell_type": "code",
   "execution_count": null,
   "metadata": {
    "collapsed": true
   },
   "outputs": [],
   "source": []
  },
  {
   "cell_type": "code",
   "execution_count": null,
   "metadata": {
    "collapsed": true
   },
   "outputs": [],
   "source": []
  },
  {
   "cell_type": "code",
   "execution_count": null,
   "metadata": {
    "collapsed": true
   },
   "outputs": [],
   "source": []
  },
  {
   "cell_type": "markdown",
   "metadata": {},
   "source": [
    "# Part 2: Querying an API endpoint\n",
    "\n",
    "### Google Maps Geocoding API\n",
    "\n",
    "Google Maps has several APIs for getting search results programmatically. This one looks up latitude-longidtude coordinates (and other place information) for street addresses, which is called geocoding. \n",
    "\n",
    "It works similarly to the earthquakes example, with query parameters added to the URL endpoint.\n",
    "\n",
    "**API documentation:**  \n",
    "https://developers.google.com/maps/documentation/geocoding/intro\n",
    "\n",
    "**API endpoint:**  \n",
    "https://maps.googleapis.com/maps/api/geocode/json\n",
    "\n",
    "**API endpoint with query parameters:**  \n",
    "https://maps.googleapis.com/maps/api/geocode/json?address=Wurster+Hall"
   ]
  },
  {
   "cell_type": "code",
   "execution_count": 9,
   "metadata": {
    "collapsed": false
   },
   "outputs": [
    {
     "name": "stdout",
     "output_type": "stream",
     "text": [
      "https://maps.googleapis.com/maps/api/geocode/json?address=Wurster+Hall%2C+Berkeley%2C+CA\n"
     ]
    }
   ],
   "source": [
    "# we have to encode the search query so that it can be passed as a URL, \n",
    "# with spaces and other special characters removed\n",
    "\n",
    "endpoint = 'https://maps.googleapis.com/maps/api/geocode/json'\n",
    "\n",
    "params = {\n",
    "    'address': 'Wurster Hall, Berkeley, CA',\n",
    "}\n",
    "\n",
    "url = endpoint + '?' + urllib.urlencode(params)\n",
    "print url"
   ]
  },
  {
   "cell_type": "code",
   "execution_count": 10,
   "metadata": {
    "collapsed": false
   },
   "outputs": [
    {
     "name": "stdout",
     "output_type": "stream",
     "text": [
      "{u'status': u'OK', u'results': [{u'geometry': {u'location_type': u'ROOFTOP', u'bounds': {u'northeast': {u'lat': 37.871116, u'lng': -122.2541912}, u'southwest': {u'lat': 37.8700084, u'lng': -122.2552699}}, u'viewport': {u'northeast': {u'lat': 37.8719111802915, u'lng': -122.2533815697085}, u'southwest': {u'lat': 37.86921321970851, u'lng': -122.2560795302915}}, u'location': {u'lat': 37.8707352, u'lng': -122.2548935}}, u'address_components': [{u'long_name': u'Wurster Hall', u'types': [u'premise'], u'short_name': u'Wurster Hall'}, {u'long_name': u'Berkeley', u'types': [u'locality', u'political'], u'short_name': u'Berkeley'}, {u'long_name': u'Alameda County', u'types': [u'administrative_area_level_2', u'political'], u'short_name': u'Alameda County'}, {u'long_name': u'California', u'types': [u'administrative_area_level_1', u'political'], u'short_name': u'CA'}, {u'long_name': u'United States', u'types': [u'country', u'political'], u'short_name': u'US'}, {u'long_name': u'94720', u'types': [u'postal_code'], u'short_name': u'94720'}], u'place_id': u'ChIJnzKeUCV8hYARccYjWTGEJUg', u'formatted_address': u'Wurster Hall, Berkeley, CA 94720, USA', u'types': [u'premise']}]}\n"
     ]
    }
   ],
   "source": [
    "# open a connection to the URL\n",
    "connection = urllib.urlopen(url)\n",
    "\n",
    "# download and parse the results\n",
    "results = json.loads(connection.read())\n",
    "\n",
    "print results"
   ]
  },
  {
   "cell_type": "code",
   "execution_count": 11,
   "metadata": {
    "collapsed": false
   },
   "outputs": [
    {
     "name": "stdout",
     "output_type": "stream",
     "text": [
      "Wurster Hall, Berkeley, CA 94720, USA\n"
     ]
    }
   ],
   "source": [
    "# pull out the formatted addresses\n",
    "\n",
    "for item in results['results']:\n",
    "    print item['formatted_address']"
   ]
  },
  {
   "cell_type": "code",
   "execution_count": null,
   "metadata": {
    "collapsed": true
   },
   "outputs": [],
   "source": []
  },
  {
   "cell_type": "code",
   "execution_count": null,
   "metadata": {
    "collapsed": true
   },
   "outputs": [],
   "source": []
  },
  {
   "cell_type": "code",
   "execution_count": null,
   "metadata": {
    "collapsed": true
   },
   "outputs": [],
   "source": []
  },
  {
   "cell_type": "markdown",
   "metadata": {},
   "source": [
    "# Part 3: Querying an API with authentication\n",
    "\n",
    "### Twitter REST and Streaming APIs\n",
    "\n",
    "Twitter's APIs also operate over the web, but they require a back-and-forth authentication process at the beginning of a connection. It's easier to have a Python library handle this than to create the query URLs ourselves.\n",
    "\n",
    "The REST APIs perform stand-alone operations: we submit a query and receive results, like in earlier examples. The Streaming API continues sending results in real time until we disconnect.\n",
    "\n",
    "(REST is a set of principles describing how data transactions should work over the web, while the actual communication protocol is called HTTP. Web pages work through HTTP and REST too, but the browser steps in to interpret and display the content for you.)\n",
    "\n",
    "**API documentation:**  \n",
    "https://dev.twitter.com/rest/public  \n",
    "https://dev.twitter.com/streaming/overview\n",
    "\n",
    "**Documentation for third-party Python \"wrapper\"**:  \n",
    "https://github.com/geduldig/TwitterAPI"
   ]
  },
  {
   "cell_type": "code",
   "execution_count": 12,
   "metadata": {
    "collapsed": true
   },
   "outputs": [],
   "source": [
    "from TwitterAPI import TwitterAPI"
   ]
  },
  {
   "cell_type": "code",
   "execution_count": 13,
   "metadata": {
    "collapsed": true
   },
   "outputs": [],
   "source": [
    "# import API credentials from keys.py file in the\n",
    "# same directory as this notebook\n",
    "\n",
    "from keys import *"
   ]
  },
  {
   "cell_type": "code",
   "execution_count": 14,
   "metadata": {
    "collapsed": false
   },
   "outputs": [
    {
     "name": "stdout",
     "output_type": "stream",
     "text": [
      "Connection is set up but not tested\n"
     ]
    }
   ],
   "source": [
    "# set up an API connection using credentials from the keys file\n",
    "\n",
    "api = TwitterAPI(consumer_key, consumer_secret, \n",
    "                 access_token, access_token_secret)\n",
    "\n",
    "print \"Connection is set up but not tested\""
   ]
  },
  {
   "cell_type": "markdown",
   "metadata": {},
   "source": [
    "### Making a simple data request"
   ]
  },
  {
   "cell_type": "code",
   "execution_count": 15,
   "metadata": {
    "collapsed": false
   },
   "outputs": [
    {
     "name": "stdout",
     "output_type": "stream",
     "text": [
      "@coleman Yep! There's a link here http://t.co/UMsr37isHL to our GitHub repo where we're sharing materials as the semester goes along.\n"
     ]
    }
   ],
   "source": [
    "# Most recent tweet from @GBoeing's timeline\n",
    "\n",
    "endpoint = 'statuses/user_timeline'\n",
    "params = {\n",
    "    'screen_name': 'gboeing', \n",
    "    'count': 1\n",
    "}\n",
    "r = api.request(endpoint, params)\n",
    "\n",
    "for tweet in r.get_iterator():\n",
    "    print tweet['text']"
   ]
  },
  {
   "cell_type": "code",
   "execution_count": 16,
   "metadata": {
    "collapsed": false
   },
   "outputs": [
    {
     "name": "stdout",
     "output_type": "stream",
     "text": [
      "[u'contributors', u'truncated', u'text', u'is_quote_status', u'in_reply_to_status_id', u'id', u'favorite_count', u'source', u'retweeted', u'coordinates', u'entities', u'in_reply_to_screen_name', u'id_str', u'retweet_count', u'in_reply_to_user_id', u'favorited', u'user', u'geo', u'in_reply_to_user_id_str', u'possibly_sensitive', u'lang', u'created_at', u'in_reply_to_status_id_str', u'place']\n"
     ]
    }
   ],
   "source": [
    "# What other data is there?\n",
    "\n",
    "print tweet.keys()"
   ]
  },
  {
   "cell_type": "code",
   "execution_count": 17,
   "metadata": {
    "collapsed": false
   },
   "outputs": [
    {
     "name": "stdout",
     "output_type": "stream",
     "text": [
      "Tweet      //  @coleman Yep! There's a link here http://t.co/UMsr37isHL to our GitHub repo where we're sharing materials as the semester goes along.\n",
      "Timestamp  //  Mon Oct 05 23:30:52 +0000 2015\n",
      "Retweets   //  0\n",
      "Favorites  //  0\n",
      "Geotag     //  None\n",
      "Language   //  en\n",
      "User       //  gboeing\n",
      "Followers  //  1670\n",
      "Profile    //  PhD candidate in urban planning at @UCBerkeley. Cities, complexity, livability, urban design, data.\n"
     ]
    }
   ],
   "source": [
    "# Contents of some additional fields...\n",
    "# Here are the definitions: https://dev.twitter.com/overview/api/tweets\n",
    "\n",
    "for tweet in r.get_iterator():\n",
    "    print \"Tweet      // \", tweet['text']\n",
    "    print \"Timestamp  // \", tweet['created_at']\n",
    "    print \"Retweets   // \", tweet['retweet_count']\n",
    "    print \"Favorites  // \", tweet['favorite_count']\n",
    "    print \"Geotag     // \", tweet['coordinates']\n",
    "    print \"Language   // \", tweet['lang']\n",
    "    print \"User       // \", tweet['user']['screen_name']\n",
    "    print \"Followers  // \", tweet['user']['followers_count']\n",
    "    print \"Profile    // \", tweet['user']['description']"
   ]
  },
  {
   "cell_type": "markdown",
   "metadata": {},
   "source": [
    "### Other API endpoints allow different types of searches"
   ]
  },
  {
   "cell_type": "code",
   "execution_count": 18,
   "metadata": {
    "collapsed": false
   },
   "outputs": [
    {
     "name": "stdout",
     "output_type": "stream",
     "text": [
      "From last week... #muni #train #sanfrancisco #nate1design #spraypaint #acrylic https://t.co/ZHQ7bRNIvc\n",
      "\n",
      "Just for reference: The #FolsomStreetFair was 8 days ago. #SF #perpetualFolsom #leather #MUNI… https://t.co/28WOhB6tyt\n",
      "\n",
      "Nose chau a dormirrr #muni #oficina\n",
      "\n",
      "RT @sfbay: Earlier: Geary bus rapid transit project hits milestone http://t.co/mxESEwndx4 #Muni via @JChinn84 http://t.co/Ss1BC2w8VU\n",
      "\n",
      "Not a BRT, you do wonder if these \"advisors\" have ever tried to ride the #muni F in #SF because that's the disruptive LOS they're planning.\n",
      "\n"
     ]
    }
   ],
   "source": [
    "# Search for public tweets about #muni\n",
    "\n",
    "endpoint = 'search/tweets'\n",
    "params = {\n",
    "    'q': '#muni', \n",
    "    'count': 5\n",
    "}\n",
    "r = api.request(endpoint, params)\n",
    "\n",
    "for tweet in r.get_iterator():\n",
    "    print tweet['text'] + '\\n'"
   ]
  },
  {
   "cell_type": "code",
   "execution_count": 19,
   "metadata": {
    "collapsed": false
   },
   "outputs": [
    {
     "name": "stdout",
     "output_type": "stream",
     "text": [
      "RT @aishraja786: Dil main aghr chahat na ho tuo melny \n",
      "\n",
      "Ka kia faida yuo sahil bhi ,\n",
      "\n",
      "                   Samander se Mila kerty hain!\n",
      "\n",
      "RT @Majid_Agha: Zahid Daultana Chairman &amp; Ghulam Jillani Vice Chairman, #PPP elected unopposed from UC 23 Vihari #Punjab #LBelection\n",
      "\n",
      "RT @vipin_rathaur: मौन व्रत तोड़िए मोदी जी। #VaranasiKiVaatLagGayi http://t.co/BK6hDybJqZ\n",
      "\n",
      "@BriceBrn @9GAGTweets @9GAGGifs JAI FAIMMMM\n",
      "\n",
      "RT @er_ramanpreet: @Gurmeetramrahim #MSG2Everywhere \n",
      "ਏਨੀ ਕੁ ਤਮੰਨਾ ਮੇਰੀ ਕਿ...... \" तू सपनों में आ जाए, प्यार लुटा जाए और उफ़्फ़ जान निकाल कर…\n",
      "\n"
     ]
    }
   ],
   "source": [
    "# Search for public tweets in Hindi\n",
    "\n",
    "endpoint = 'search/tweets'\n",
    "params = {\n",
    "    'q': '*', \n",
    "    'lang': 'hi', \n",
    "    'count': 5\n",
    "} \n",
    "r = api.request(endpoint, params)\n",
    "\n",
    "for tweet in r.get_iterator():\n",
    "    print tweet['text'] + '\\n'"
   ]
  },
  {
   "cell_type": "code",
   "execution_count": 20,
   "metadata": {
    "collapsed": false
   },
   "outputs": [
    {
     "name": "stdout",
     "output_type": "stream",
     "text": [
      "This is one class project that's not being typed. #AlmostDone #ruleoflife #SpiritualPractice #Art… https://t.co/fBzbkTDURU\n",
      "\n",
      "Soka University had a blast at UC Berkeley's graduate school fair. Our Admission Operations… https://t.co/x7RvEOCGlB\n",
      "\n",
      "Hot Seller: Mummenschanz @ Cal Performances' Zellerbach Hall (Berkeley, CA) http://t.co/GenMFwHU4r http://t.co/owzw7rGpvD\n",
      "\n",
      "Hot Seller: Mummenschanz @ Cal Performances' Zellerbach Hall (Berkeley, CA) http://t.co/gsUuiC5Iop http://t.co/hzDQufCQIl\n",
      "\n",
      "Hot Seller: Mummenschanz @ Cal Performances' Zellerbach Hall (Berkeley, CA) http://t.co/KY6vpLcpzc http://t.co/XYRqSHPQPh\n",
      "\n"
     ]
    }
   ],
   "source": [
    "# Search for public tweets geotagged near the UC Berkeley campus\n",
    "\n",
    "endpoint = 'search/tweets'\n",
    "params = {\n",
    "    'q': '*', \n",
    "    'geocode': '37.873,-122.260,0.5km', \n",
    "    'count': 5\n",
    "} \n",
    "r = api.request(endpoint, params)\n",
    "\n",
    "for tweet in r.get_iterator():\n",
    "    print tweet['text'] + '\\n'"
   ]
  },
  {
   "cell_type": "markdown",
   "metadata": {},
   "source": [
    "### Exercise\n",
    "\n",
    "1. Try some different search queries!\n",
    "2. Display some more data fields in addition to the tweet text\n",
    "3. Advanced: can you figure out how to use the API to *post* a tweet?\n",
    "\n",
    "Here's the search documentation: https://dev.twitter.com/rest/reference/get/search/tweets\n",
    "\n",
    "\n"
   ]
  },
  {
   "cell_type": "code",
   "execution_count": null,
   "metadata": {
    "collapsed": true
   },
   "outputs": [],
   "source": []
  },
  {
   "cell_type": "code",
   "execution_count": null,
   "metadata": {
    "collapsed": true
   },
   "outputs": [],
   "source": []
  },
  {
   "cell_type": "code",
   "execution_count": null,
   "metadata": {
    "collapsed": true
   },
   "outputs": [],
   "source": []
  },
  {
   "cell_type": "markdown",
   "metadata": {},
   "source": [
    "### Streaming live tweets in real time "
   ]
  },
  {
   "cell_type": "code",
   "execution_count": 21,
   "metadata": {
    "collapsed": false
   },
   "outputs": [
    {
     "name": "stdout",
     "output_type": "stream",
     "text": [
      "Tue Oct 06 07:56:12 +0000 2015\n",
      "İstanbul, Türkiye, Türkiye\n",
      "I'm at Nişantaşı Üniversitesi - @nisantasiedu in İstanbul w/ @soylemezmerve https://t.co/uqFaySSUeC\n",
      "\n",
      "Tue Oct 06 07:56:12 +0000 2015\n",
      "ปราจีนบุรี, จ.ปราจีนบุรี, ประเทศไทย\n",
      "เพราะเขาคนนี้คือหน้าตาของวง.... #คิมมยองซูคนหล่อทำอะไรมักไม่ผิด http://t.co/h0YbwYM8HQ\n",
      "\n",
      "Tue Oct 06 07:56:12 +0000 2015\n",
      "Tacloban City, Eastern Visayas, Republika ng Pilipinas\n",
      "@hazabizoo_ @iamcherry05 @marvindice16 HAHAHAHA\n",
      "\n",
      "#ALDUBTheDecision\n",
      "\n",
      "Tue Oct 06 07:56:12 +0000 2015\n",
      "Port Harcourt, Nigeria, Nigeria\n",
      "Going nowhere - Messi, Neymar and Suarez staying as Barcelona take 'breather' in international week http://t.co/qhPJhJ2C0Q\n",
      "\n",
      "Tue Oct 06 07:56:12 +0000 2015\n",
      "Wajo, Sulawesi Selatan, Indonesia\n",
      "What's down buddy \n",
      ".\n",
      "#streetwear \n",
      "#explorebecak\n",
      "#pantailosarimakasar @… https://t.co/F9YyuEH895\n",
      "\n",
      "Tue Oct 06 07:56:12 +0000 2015\n",
      "Odawara-shi, Kanagawa, 日本\n",
      "アリス高いな。。うーん。プリストやろうかなああ。。\n",
      "\n",
      "Tue Oct 06 07:56:12 +0000 2015\n",
      "沖縄県 宜野湾市, 日本\n",
      "@kaishi74soc \n",
      "バイト行ってきまーす。笑\n",
      "\n",
      "Tue Oct 06 07:56:12 +0000 2015\n",
      "Paços de Ferreira, Portugal, Portugal\n",
      "Agora durante algum tempo não temos aulas de português 😂🔝\n",
      "\n",
      "Tue Oct 06 07:56:12 +0000 2015\n",
      "San Francisco, CA, United States\n",
      "Where it's at for the last leg of #ApSara W(est)! &lt;3 for my girl @sarareistadlong #allthesquadtags @… https://t.co/ECe29hYxmJ\n",
      "\n",
      "Tue Oct 06 07:56:12 +0000 2015\n",
      "Çorum, Türkiye, Türkiye\n",
      "#EnBegendigimFotografım http://t.co/1IjueybKyd\n",
      "\n",
      "Tue Oct 06 07:56:12 +0000 2015\n",
      "Jeddah, Makkah Al Mukarrama, المملكة العربية السعودية\n",
      "I LOVE @iamJulianT kaya please lng wag siya GOOD VIBES LNG! #ALDUBTheDecision\n",
      "\n",
      "Tue Oct 06 07:56:13 +0000 2015\n",
      "Adana, Türkiye, Türkiye\n",
      "sınıfta imtihandalar….Hepsi,birinden şikayet ediyor …--Örtmenin bu arkadaş hep benim kağıdıma bakıyor....—Benden kopya çekiyor örtmenim.\n",
      "\n",
      "Tue Oct 06 07:56:13 +0000 2015\n",
      "New Orleans, LA, United States\n",
      "Nigga really don't got sleep on they mind @CCS_KTR dm me I'm tired playing on my TL\n",
      "\n",
      "Tue Oct 06 07:56:13 +0000 2015\n",
      "Antipolo City, Calabarzon, Republika ng Pilipinas\n",
      "@alisoncharlene babyface\n",
      "\n",
      "Tue Oct 06 07:56:13 +0000 2015\n",
      "Le Plessis-Pâté, Ile-de-France, France\n",
      "aujourd'hui j'ai qu'un cours et il est en amphi alors je vais y aller 30 minutes et après je me barre rejoindre Niels 💁🏽\n",
      "\n",
      "Tue Oct 06 07:56:12 +0000 2015\n",
      "Paradise, NV, United States\n",
      "10년만의 라스베이거스 (@ Fat Bar Las Vegas - @fatbarlv in Las Vegas, NV) https://t.co/H3mDnyA61E http://t.co/Rges1SJDHj\n",
      "\n",
      "Tue Oct 06 07:56:13 +0000 2015\n",
      "London, England, United Kingdom\n",
      "@marcuswareing amazing meeting you last night you are a true gent\n",
      "\n",
      "Tue Oct 06 07:56:12 +0000 2015\n",
      "Arles, Provence-Alpes-Côte d'Azur, France\n",
      "http://t.co/PXVdiZsD9I\n",
      "\n",
      "Tue Oct 06 07:56:13 +0000 2015\n",
      "Luleå, Sverige, Sverige\n",
      "@pia_nolla\n",
      "\n",
      "Tue Oct 06 07:56:13 +0000 2015\n",
      "Camden Town, London, United Kingdom\n",
      "@julesmattsson this from @FrancesOGrady but not seen anything from them directly https://t.co/oRsoZ8tQ0Z\n",
      "\n",
      "Tue Oct 06 07:56:13 +0000 2015\n",
      "Rotterdam, South Holland, Nederland\n",
      "#ICDirect 924 (V 10:10 van Rotterdam) naar Breda is nu 11 minuten vertraagd.\n",
      "\n",
      "Tue Oct 06 07:56:13 +0000 2015\n",
      "Longbenton, England, United Kingdom\n",
      "@oliveracejovic ha ha tell him to put his golf swing on here for us to compare ⛳️👍\n",
      "\n"
     ]
    }
   ],
   "source": [
    "# Twitter limits simultaneous connections to the streaming API,\n",
    "# so this part may not work using the demo API keys during class\n",
    "\n",
    "endpoint = 'statuses/filter'\n",
    "params = {'locations': '-180,-90,180,90'}\n",
    "r = api.request(endpoint, params)\n",
    "\n",
    "# 'enumerate' lets us count tweets as we receive them\n",
    "\n",
    "for i, tweet in enumerate(r.get_iterator()):\n",
    "    print tweet['created_at']\n",
    "    print tweet['place']['full_name'] + ', ' + tweet['place']['country']\n",
    "    print tweet['text'] + '\\n'\n",
    "    if (i > 20): break\n",
    "\n",
    "r.close()  # close streaming connection"
   ]
  },
  {
   "cell_type": "markdown",
   "metadata": {},
   "source": [
    "### Loading tweets into a dataframe"
   ]
  },
  {
   "cell_type": "code",
   "execution_count": 22,
   "metadata": {
    "collapsed": false
   },
   "outputs": [
    {
     "name": "stdout",
     "output_type": "stream",
     "text": [
      "500\n"
     ]
    }
   ],
   "source": [
    "# first, save some tweets to an array instead of just printing them\n",
    "\n",
    "r = api.request(endpoint, params)\n",
    "tweets = []\n",
    "\n",
    "for i, tweet in enumerate(r.get_iterator()):\n",
    "    if (i >= 500): break\n",
    "    tweets.append(tweet)\n",
    "\n",
    "r.close()\n",
    "print len(tweets)"
   ]
  },
  {
   "cell_type": "code",
   "execution_count": 23,
   "metadata": {
    "collapsed": false
   },
   "outputs": [
    {
     "name": "stdout",
     "output_type": "stream",
     "text": [
      "[{u'contributors': None, u'truncated': False, u'text': u'Bathroom refurbishment well in progress. Electrics and tiling close to completion. http://t.co/AKtSpn8TZZ', u'is_quote_status': False, u'in_reply_to_status_id': None, u'id': 651304986480091136, u'favorite_count': 0, u'source': u'<a href=\"http://twitter.com/download/iphone\" rel=\"nofollow\">Twitter for iPhone</a>', u'retweeted': False, u'coordinates': None, u'timestamp_ms': u'1444118184095', u'entities': {u'user_mentions': [], u'symbols': [], u'hashtags': [], u'urls': [], u'media': [{u'expanded_url': u'http://twitter.com/adddetail/status/651304986480091136/photo/1', u'display_url': u'pic.twitter.com/AKtSpn8TZZ', u'url': u'http://t.co/AKtSpn8TZZ', u'media_url_https': u'https://pbs.twimg.com/media/CQnmaRzUEAAR_zm.jpg', u'id_str': u'651304960261361664', u'sizes': {u'small': {u'h': 453, u'resize': u'fit', u'w': 340}, u'large': {u'h': 1024, u'resize': u'fit', u'w': 768}, u'medium': {u'h': 800, u'resize': u'fit', u'w': 600}, u'thumb': {u'h': 150, u'resize': u'crop', u'w': 150}}, u'indices': [83, 105], u'type': u'photo', u'id': 651304960261361664, u'media_url': u'http://pbs.twimg.com/media/CQnmaRzUEAAR_zm.jpg'}]}, u'in_reply_to_screen_name': None, u'id_str': u'651304986480091136', u'retweet_count': 0, u'in_reply_to_user_id': None, u'favorited': False, u'user': {u'follow_request_sent': None, u'profile_use_background_image': False, u'default_profile_image': False, u'id': 2773182763, u'verified': False, u'profile_image_url_https': u'https://pbs.twimg.com/profile_images/580352159092490240/lA2LHnff_normal.png', u'profile_sidebar_fill_color': u'000000', u'profile_text_color': u'000000', u'followers_count': 92, u'profile_sidebar_border_color': u'000000', u'id_str': u'2773182763', u'profile_background_color': u'000000', u'listed_count': 5, u'profile_background_image_url_https': u'https://abs.twimg.com/images/themes/theme1/bg.png', u'utc_offset': None, u'statuses_count': 338, u'description': u'Quick response Plumbing, Heating, Gas and Carpentry services in London.                                                Call us on: 02088224451', u'friends_count': 317, u'location': u'London', u'profile_link_color': u'ABB8C2', u'profile_image_url': u'http://pbs.twimg.com/profile_images/580352159092490240/lA2LHnff_normal.png', u'following': None, u'geo_enabled': True, u'profile_banner_url': u'https://pbs.twimg.com/profile_banners/2773182763/1427713667', u'profile_background_image_url': u'http://abs.twimg.com/images/themes/theme1/bg.png', u'name': u'Add Detail ', u'lang': u'en', u'profile_background_tile': False, u'favourites_count': 8, u'screen_name': u'adddetail', u'notifications': None, u'url': u'http://www.adddetail.com', u'created_at': u'Wed Aug 27 12:39:52 +0000 2014', u'contributors_enabled': False, u'time_zone': None, u'protected': False, u'default_profile': False, u'is_translator': False}, u'geo': None, u'in_reply_to_user_id_str': None, u'possibly_sensitive': False, u'lang': u'en', u'created_at': u'Tue Oct 06 07:56:24 +0000 2015', u'filter_level': u'low', u'in_reply_to_status_id_str': None, u'place': {u'full_name': u'Barnet, London', u'url': u'https://api.twitter.com/1.1/geo/id/7ef79c5ab17d518c.json', u'country': u'United Kingdom', u'place_type': u'city', u'bounding_box': {u'type': u'Polygon', u'coordinates': [[[-0.292579, 51.555179], [-0.292579, 51.66859], [-0.12921, 51.66859], [-0.12921, 51.555179]]]}, u'country_code': u'GB', u'attributes': {}, u'id': u'7ef79c5ab17d518c', u'name': u'Barnet'}, u'extended_entities': {u'media': [{u'expanded_url': u'http://twitter.com/adddetail/status/651304986480091136/photo/1', u'display_url': u'pic.twitter.com/AKtSpn8TZZ', u'url': u'http://t.co/AKtSpn8TZZ', u'media_url_https': u'https://pbs.twimg.com/media/CQnmaRzUEAAR_zm.jpg', u'id_str': u'651304960261361664', u'sizes': {u'small': {u'h': 453, u'resize': u'fit', u'w': 340}, u'large': {u'h': 1024, u'resize': u'fit', u'w': 768}, u'medium': {u'h': 800, u'resize': u'fit', u'w': 600}, u'thumb': {u'h': 150, u'resize': u'crop', u'w': 150}}, u'indices': [83, 105], u'type': u'photo', u'id': 651304960261361664, u'media_url': u'http://pbs.twimg.com/media/CQnmaRzUEAAR_zm.jpg'}, {u'expanded_url': u'http://twitter.com/adddetail/status/651304986480091136/photo/1', u'display_url': u'pic.twitter.com/AKtSpn8TZZ', u'url': u'http://t.co/AKtSpn8TZZ', u'media_url_https': u'https://pbs.twimg.com/media/CQnmaRuU8AACkAB.jpg', u'id_str': u'651304960240447488', u'sizes': {u'small': {u'h': 453, u'resize': u'fit', u'w': 340}, u'large': {u'h': 1024, u'resize': u'fit', u'w': 768}, u'medium': {u'h': 800, u'resize': u'fit', u'w': 600}, u'thumb': {u'h': 150, u'resize': u'crop', u'w': 150}}, u'indices': [83, 105], u'type': u'photo', u'id': 651304960240447488, u'media_url': u'http://pbs.twimg.com/media/CQnmaRuU8AACkAB.jpg'}]}}, {u'contributors': None, u'truncated': False, u'text': u'\\u0417\\u0440\\u044f \\u043f\\u043e\\u0435\\u0445\\u0430\\u043b\\u0430 \\u043d\\u0430 \\u0443\\u0447\\u0451\\u0431\\u0443, \\u0432\\u0441\\u0435 \\u043c\\u0435\\u043d\\u044f \\u0431\\u0435\\u0441\\u044f\\u0442 \\n\\u041f\\u043e\\u0435\\u0434\\u0443 \\u0434\\u043e\\u043c\\u043e\\u0439', u'is_quote_status': False, u'in_reply_to_status_id': None, u'id': 651304986199068672, u'favorite_count': 0, u'source': u'<a href=\"http://twitter.com/download/android\" rel=\"nofollow\">Twitter for Android</a>', u'retweeted': False, u'coordinates': None, u'timestamp_ms': u'1444118184028', u'entities': {u'user_mentions': [], u'symbols': [], u'hashtags': [], u'urls': []}, u'in_reply_to_screen_name': None, u'id_str': u'651304986199068672', u'retweet_count': 0, u'in_reply_to_user_id': None, u'favorited': False, u'user': {u'follow_request_sent': None, u'profile_use_background_image': True, u'default_profile_image': False, u'id': 1309594020, u'verified': False, u'profile_image_url_https': u'https://pbs.twimg.com/profile_images/649145809498411008/o7WahyeL_normal.jpg', u'profile_sidebar_fill_color': u'DDEEF6', u'profile_text_color': u'333333', u'followers_count': 43, u'profile_sidebar_border_color': u'FFFFFF', u'id_str': u'1309594020', u'profile_background_color': u'EDECE9', u'listed_count': 0, u'profile_background_image_url_https': u'https://pbs.twimg.com/profile_background_images/378800000110321351/b773911bfdfd4956de1b94a2a8efe544.jpeg', u'utc_offset': None, u'statuses_count': 3449, u'description': u'W A R M', u'friends_count': 22, u'location': None, u'profile_link_color': u'088253', u'profile_image_url': u'http://pbs.twimg.com/profile_images/649145809498411008/o7WahyeL_normal.jpg', u'following': None, u'geo_enabled': True, u'profile_banner_url': u'https://pbs.twimg.com/profile_banners/1309594020/1443422946', u'profile_background_image_url': u'http://pbs.twimg.com/profile_background_images/378800000110321351/b773911bfdfd4956de1b94a2a8efe544.jpeg', u'name': u'\\u0438\\u0440\\u044d\\u043d', u'lang': u'ru', u'profile_background_tile': True, u'favourites_count': 187, u'screen_name': u'irusikmimusik', u'notifications': None, u'url': None, u'created_at': u'Thu Mar 28 06:28:22 +0000 2013', u'contributors_enabled': False, u'time_zone': None, u'protected': False, u'default_profile': False, u'is_translator': False}, u'geo': None, u'in_reply_to_user_id_str': None, u'lang': u'ru', u'created_at': u'Tue Oct 06 07:56:24 +0000 2015', u'filter_level': u'low', u'in_reply_to_status_id_str': None, u'place': {u'full_name': u'\\u0421\\u0430\\u043d\\u043a\\u0442-\\u041f\\u0435\\u0442\\u0435\\u0440\\u0431\\u0443\\u0440\\u0433, \\u0420\\u043e\\u0441\\u0441\\u0438\\u044f', u'url': u'https://api.twitter.com/1.1/geo/id/a76c0cd7d56c4836.json', u'country': u'Rossiya', u'place_type': u'city', u'bounding_box': {u'type': u'Polygon', u'coordinates': [[[30.089689, 59.776171], [30.089689, 60.092125], [30.567707, 60.092125], [30.567707, 59.776171]]]}, u'country_code': u'RU', u'attributes': {}, u'id': u'a76c0cd7d56c4836', u'name': u'\\u0421\\u0430\\u043d\\u043a\\u0442-\\u041f\\u0435\\u0442\\u0435\\u0440\\u0431\\u0443\\u0440\\u0433'}}, {u'contributors': None, u'truncated': False, u'text': u\"I'm at Beykent \\xdcniversitesi in \\u0130stanbul w/ @samet_erten https://t.co/tZkJSVtpsD\", u'is_quote_status': False, u'in_reply_to_status_id': None, u'id': 651304987436388352, u'favorite_count': 0, u'source': u'<a href=\"http://foursquare.com\" rel=\"nofollow\">Foursquare</a>', u'retweeted': False, u'coordinates': {u'type': u'Point', u'coordinates': [29.00388479, 41.11718928]}, u'timestamp_ms': u'1444118184323', u'entities': {u'user_mentions': [{u'id': 353688058, u'indices': [43, 55], u'id_str': u'353688058', u'screen_name': u'samet_erten', u'name': u'Samet ERTEN'}], u'symbols': [], u'hashtags': [], u'urls': [{u'url': u'https://t.co/tZkJSVtpsD', u'indices': [56, 79], u'expanded_url': u'https://www.swarmapp.com/c/9OY1QGe8cRQ', u'display_url': u'swarmapp.com/c/9OY1QGe8cRQ'}]}, u'in_reply_to_screen_name': None, u'id_str': u'651304987436388352', u'retweet_count': 0, u'in_reply_to_user_id': None, u'favorited': False, u'user': {u'follow_request_sent': None, u'profile_use_background_image': True, u'default_profile_image': False, u'id': 477821132, u'verified': False, u'profile_image_url_https': u'https://pbs.twimg.com/profile_images/607834172955181056/XTtnDYH4_normal.jpg', u'profile_sidebar_fill_color': u'F6F6F6', u'profile_text_color': u'333333', u'followers_count': 50, u'profile_sidebar_border_color': u'EEEEEE', u'id_str': u'477821132', u'profile_background_color': u'ACDED6', u'listed_count': 0, u'profile_background_image_url_https': u'https://abs.twimg.com/images/themes/theme18/bg.gif', u'utc_offset': 10800, u'statuses_count': 545, u'description': u\"tan\\u0131d\\u0131k\\xe7a kim oldu\\u011fumu \\xf6\\u011frenirsin 'yenge\\xe7'\", u'friends_count': 56, u'location': u'gebze kocaeli', u'profile_link_color': u'038543', u'profile_image_url': u'http://pbs.twimg.com/profile_images/607834172955181056/XTtnDYH4_normal.jpg', u'following': None, u'geo_enabled': True, u'profile_banner_url': u'https://pbs.twimg.com/profile_banners/477821132/1432157212', u'profile_background_image_url': u'http://abs.twimg.com/images/themes/theme18/bg.gif', u'name': u'O\\u011fuz yaman', u'lang': u'tr', u'profile_background_tile': False, u'favourites_count': 40, u'screen_name': u'oguzyaman14', u'notifications': None, u'url': None, u'created_at': u'Sun Jan 29 16:11:39 +0000 2012', u'contributors_enabled': False, u'time_zone': u'Athens', u'protected': False, u'default_profile': False, u'is_translator': False}, u'geo': {u'type': u'Point', u'coordinates': [41.11718928, 29.00388479]}, u'in_reply_to_user_id_str': None, u'possibly_sensitive': False, u'lang': u'tr', u'created_at': u'Tue Oct 06 07:56:24 +0000 2015', u'filter_level': u'low', u'in_reply_to_status_id_str': None, u'place': {u'full_name': u'Maslak, \\u0130stanbul', u'url': u'https://api.twitter.com/1.1/geo/id/2eba52ce0fb93f6b.json', u'country': u'T\\xfcrkiye', u'place_type': u'neighborhood', u'bounding_box': {u'type': u'Polygon', u'coordinates': [[[28.996663, 41.099831], [28.996663, 41.147195], [29.025841, 41.147195], [29.025841, 41.099831]]]}, u'country_code': u'TR', u'attributes': {}, u'id': u'2eba52ce0fb93f6b', u'name': u'Maslak'}}, {u'contributors': None, u'truncated': False, u'text': u'I just finished walking 3.48 km in 33m:16s with #Endomondo #endorphins http://t.co/QrHne6PZtL', u'is_quote_status': False, u'in_reply_to_status_id': None, u'id': 651304988279443456, u'favorite_count': 0, u'source': u'<a href=\"http://www.endomondo.com\" rel=\"nofollow\">Endomondo</a>', u'retweeted': False, u'coordinates': {u'type': u'Point', u'coordinates': [-5.300748, 40.821214]}, u'timestamp_ms': u'1444118184524', u'entities': {u'user_mentions': [], u'symbols': [], u'hashtags': [{u'indices': [48, 58], u'text': u'Endomondo'}, {u'indices': [59, 70], u'text': u'endorphins'}], u'urls': [{u'url': u'http://t.co/QrHne6PZtL', u'indices': [71, 93], u'expanded_url': u'http://goo.gl/oQPIVZ', u'display_url': u'goo.gl/oQPIVZ'}]}, u'in_reply_to_screen_name': None, u'id_str': u'651304988279443456', u'retweet_count': 0, u'in_reply_to_user_id': None, u'favorited': False, u'user': {u'follow_request_sent': None, u'profile_use_background_image': True, u'default_profile_image': False, u'id': 486843153, u'verified': False, u'profile_image_url_https': u'https://pbs.twimg.com/profile_images/645367260719239168/nSgA9WKz_normal.jpg', u'profile_sidebar_fill_color': u'DDEEF6', u'profile_text_color': u'333333', u'followers_count': 1074, u'profile_sidebar_border_color': u'C0DEED', u'id_str': u'486843153', u'profile_background_color': u'C0DEED', u'listed_count': 15, u'profile_background_image_url_https': u'https://abs.twimg.com/images/themes/theme1/bg.png', u'utc_offset': 7200, u'statuses_count': 6091, u'description': u'Salmantina,Macoterana y Santanera,Voluntaria de Cruz Roja,Aficionada al Running,Enamorada de mis hijos,del Atletico de Madrid....', u'friends_count': 992, u'location': None, u'profile_link_color': u'0084B4', u'profile_image_url': u'http://pbs.twimg.com/profile_images/645367260719239168/nSgA9WKz_normal.jpg', u'following': None, u'geo_enabled': True, u'profile_banner_url': u'https://pbs.twimg.com/profile_banners/486843153/1432674744', u'profile_background_image_url': u'http://abs.twimg.com/images/themes/theme1/bg.png', u'name': u'Paqui Jim\\xe9nez Cosmes', u'lang': u'es', u'profile_background_tile': False, u'favourites_count': 20656, u'screen_name': u'Paquicosmes', u'notifications': None, u'url': None, u'created_at': u'Wed Feb 08 18:40:47 +0000 2012', u'contributors_enabled': False, u'time_zone': u'Amsterdam', u'protected': False, u'default_profile': True, u'is_translator': False}, u'geo': {u'type': u'Point', u'coordinates': [40.821214, -5.300748]}, u'in_reply_to_user_id_str': None, u'possibly_sensitive': False, u'lang': u'en', u'created_at': u'Tue Oct 06 07:56:24 +0000 2015', u'filter_level': u'low', u'in_reply_to_status_id_str': None, u'place': {u'full_name': u'Macotera, Castilla y Le\\xf3n', u'url': u'https://api.twitter.com/1.1/geo/id/097e7098a4a6475f.json', u'country': u'Espa\\xf1a', u'place_type': u'city', u'bounding_box': {u'type': u'Polygon', u'coordinates': [[[-5.353192, 40.805028], [-5.353192, 40.865467], [-5.238478, 40.865467], [-5.238478, 40.805028]]]}, u'country_code': u'ES', u'attributes': {}, u'id': u'097e7098a4a6475f', u'name': u'Macotera'}}, {u'contributors': None, u'truncated': False, u'text': u'@pumpkinpidor \\u0410 \\u0432\\u043e\\u043e\\u0431\\u0449\\u0435 \\u0434\\u0430 \\u0442\\u0432\\u0438\\u0442\\u0442\\u0435\\u0440\\u0441\\u043a\\u0438\\u0435', u'is_quote_status': False, u'in_reply_to_status_id': 651300564991647744, u'id': 651304988321386496, u'favorite_count': 0, u'source': u'<a href=\"http://twitter.com/download/iphone\" rel=\"nofollow\">Twitter for iPhone</a>', u'retweeted': False, u'coordinates': None, u'timestamp_ms': u'1444118184534', u'entities': {u'user_mentions': [{u'id': 3331624019, u'indices': [0, 13], u'id_str': u'3331624019', u'screen_name': u'pumpkinpidor', u'name': u'\\u0438\\u0437\\u0438 \\u043f\\u0438\\u0437\\u0438|\\u043c\\u043e\\u043f\\u0441 \\u0441\\u043c\\u043e\\u0436\\u0435\\u0442'}], u'symbols': [], u'hashtags': [], u'urls': []}, u'in_reply_to_screen_name': u'pumpkinpidor', u'id_str': u'651304988321386496', u'retweet_count': 0, u'in_reply_to_user_id': 3331624019, u'favorited': False, u'user': {u'follow_request_sent': None, u'profile_use_background_image': True, u'default_profile_image': False, u'id': 574238900, u'verified': False, u'profile_image_url_https': u'https://pbs.twimg.com/profile_images/647395238357671937/VdaDNBjP_normal.jpg', u'profile_sidebar_fill_color': u'000000', u'profile_text_color': u'E4D498', u'followers_count': 2106, u'profile_sidebar_border_color': u'FFFFFF', u'id_str': u'574238900', u'profile_background_color': u'ABB8C2', u'listed_count': 7, u'profile_background_image_url_https': u'https://pbs.twimg.com/profile_background_images/609811729548185600/c47HEG9t.png', u'utc_offset': 14400, u'statuses_count': 20191, u'description': u\"so many stars in the sky and i don't know why they always have to fall on me.  \\u041a\\u0430\\u043a\\u043e\\u0439-\\u0442\\u043e \\u043f\\u0438\\u0434\\u0440 @pumpkinpidor\", u'friends_count': 1398, u'location': u'Moscow, Russia', u'profile_link_color': u'ABB8C2', u'profile_image_url': u'http://pbs.twimg.com/profile_images/647395238357671937/VdaDNBjP_normal.jpg', u'following': None, u'geo_enabled': True, u'profile_banner_url': u'https://pbs.twimg.com/profile_banners/574238900/1443186049', u'profile_background_image_url': u'http://pbs.twimg.com/profile_background_images/609811729548185600/c47HEG9t.png', u'name': u'\\u0437\\u0430\\u0432\\u043e\\u0434\\u043d\\u043e\\u0439 \\u0430\\u043f\\u0435\\u043b\\u044c\\u0441\\u0438\\u043d', u'lang': u'ru', u'profile_background_tile': True, u'favourites_count': 1736, u'screen_name': u'gallavichcom', u'notifications': None, u'url': None, u'created_at': u'Tue May 08 06:06:21 +0000 2012', u'contributors_enabled': False, u'time_zone': u'Muscat', u'protected': False, u'default_profile': False, u'is_translator': False}, u'geo': None, u'in_reply_to_user_id_str': u'3331624019', u'lang': u'ru', u'created_at': u'Tue Oct 06 07:56:24 +0000 2015', u'filter_level': u'low', u'in_reply_to_status_id_str': u'651300564991647744', u'place': {u'full_name': u'\\u041c\\u043e\\u0441\\u043a\\u0432\\u0430, \\u0420\\u043e\\u0441\\u0441\\u0438\\u044f', u'url': u'https://api.twitter.com/1.1/geo/id/4303d1afc1e98c37.json', u'country': u'Rossiya', u'place_type': u'city', u'bounding_box': {u'type': u'Polygon', u'coordinates': [[[37.131673, 55.490834], [37.131673, 56.020919], [37.965012, 56.020919], [37.965012, 55.490834]]]}, u'country_code': u'RU', u'attributes': {}, u'id': u'4303d1afc1e98c37', u'name': u'\\u041c\\u043e\\u0441\\u043a\\u0432\\u0430'}}]\n"
     ]
    }
   ],
   "source": [
    "# the raw data is very messy though!\n",
    "\n",
    "print tweets[0:5]"
   ]
  },
  {
   "cell_type": "code",
   "execution_count": 24,
   "metadata": {
    "collapsed": false
   },
   "outputs": [
    {
     "name": "stdout",
     "output_type": "stream",
     "text": [
      "115\n"
     ]
    }
   ],
   "source": [
    "# we'll pull out some pieces into a dataframe\n",
    "\n",
    "# first, set up a dictionary of empty arrays\n",
    "d = {'place': [], 'latitude': [], 'longitude': []}\n",
    "\n",
    "for t in tweets:\n",
    "    try:\n",
    "        # first check whether the fields we want exist\n",
    "        _test = t['coordinates']['coordinates']\n",
    "        \n",
    "        # then pull out the data\n",
    "        d['place'].append(t['place']['name'])\n",
    "        d['latitude'].append(t['coordinates']['coordinates'][1])\n",
    "        d['longitude'].append(t['coordinates']['coordinates'][0])\n",
    "        \n",
    "    except:\n",
    "        # if the test failed, continue to next tweet\n",
    "        continue\n",
    "\n",
    "# load it into a dataframe\n",
    "df = pd.DataFrame.from_dict(d)\n",
    "\n",
    "print len(df)"
   ]
  },
  {
   "cell_type": "code",
   "execution_count": 25,
   "metadata": {
    "collapsed": false
   },
   "outputs": [
    {
     "name": "stdout",
     "output_type": "stream",
     "text": [
      "    latitude   longitude        place\n",
      "0  41.117189   29.003885       Maslak\n",
      "1  40.821214   -5.300748     Macotera\n",
      "2  13.813340  100.559745      จตุจักร\n",
      "3  39.935671   32.817807  Yenimahalle\n",
      "4  36.871838   30.825888         Aksu\n"
     ]
    }
   ],
   "source": [
    "print df.head()"
   ]
  },
  {
   "cell_type": "code",
   "execution_count": 29,
   "metadata": {
    "collapsed": false
   },
   "outputs": [
    {
     "name": "stdout",
     "output_type": "stream",
     "text": [
      "      latitude   longitude                place\n",
      "19   38.673712   34.742546           2000 Evler\n",
      "101  37.029782   35.320306                Adana\n",
      "4    36.871838   30.825888                 Aksu\n",
      "78   39.957793   32.871707             Altındağ\n",
      "86   39.900982   32.806518               Ankara\n",
      "10   14.574441  121.187121        Antipolo City\n",
      "80   41.396309    2.163410            Barcelona\n",
      "31   40.723332   29.969031            Başiskele\n",
      "104  -5.097150  119.512300         Biringkanaya\n",
      "38   40.175854   29.068151                Bursa\n",
      "28    8.476807  124.646716  Cagayan De Oro City\n",
      "30   30.018790   31.225846                Cairo\n"
     ]
    }
   ],
   "source": [
    "print df.sort('place').head(12)"
   ]
  },
  {
   "cell_type": "code",
   "execution_count": 30,
   "metadata": {
    "collapsed": false
   },
   "outputs": [
    {
     "data": {
      "text/plain": [
       "<matplotlib.axes._subplots.AxesSubplot at 0x10ada5ad0>"
      ]
     },
     "execution_count": 30,
     "metadata": {},
     "output_type": "execute_result"
    },
    {
     "data": {
      "image/png": "[encoded data removed]",
      "text/plain": [
       "<matplotlib.figure.Figure at 0x10ada59d0>"
      ]
     },
     "metadata": {},
     "output_type": "display_data"
    }
   ],
   "source": [
    "df.plot(x='longitude', y='latitude', kind='scatter')"
   ]
  },
  {
   "cell_type": "code",
   "execution_count": null,
   "metadata": {
    "collapsed": false
   },
   "outputs": [],
   "source": [
    "# Note that when working with text strings that include characters from \n",
    "# other alphabets, you need to keep track of the text encoding.\n",
    "\n",
    "# Some interesting related reading:\n",
    "# - http://www.joelonsoftware.com/articles/Unicode.html\n",
    "\n",
    "df.to_csv('saved_coords.csv', encoding='utf-8')"
   ]
  },
  {
   "cell_type": "code",
   "execution_count": null,
   "metadata": {
    "collapsed": true
   },
   "outputs": [],
   "source": []
  },
  {
   "cell_type": "markdown",
   "metadata": {},
   "source": [
    "### Exercise for the remainder of class\n",
    "\n",
    "Choose one:\n",
    "\n",
    "1. Using one of the APIs from this demo, save and graph a different aspect of the data.  \n",
    "   &nbsp;\n",
    "\n",
    "2. Or, search the web for another API that provides data you're interested in. Can you figure out how to connect to it using Python code?\n",
    "\n",
    "Some common terms for describing these APIs that operate over the web are \"HTTP\" and \"REST\". The most frequent data format they provide is JSON, but with some code modifications you can parse other formats as well."
   ]
  },
  {
   "cell_type": "code",
   "execution_count": null,
   "metadata": {
    "collapsed": true
   },
   "outputs": [],
   "source": []
  },
  {
   "cell_type": "code",
   "execution_count": null,
   "metadata": {
    "collapsed": true
   },
   "outputs": [],
   "source": []
  },
  {
   "cell_type": "code",
   "execution_count": null,
   "metadata": {
    "collapsed": true
   },
   "outputs": [],
   "source": []
  }
 ],
 "metadata": {
  "kernelspec": {
   "display_name": "Python 2",
   "language": "python",
   "name": "python2"
  },
  "language_info": {
   "codemirror_mode": {
    "name": "ipython",
    "version": 2
   },
   "file_extension": ".py",
   "mimetype": "text/x-python",
   "name": "python",
   "nbconvert_exporter": "python",
   "pygments_lexer": "ipython2",
   "version": "2.7.10"
  }
 },
 "nbformat": 4,
 "nbformat_minor": 0
}
