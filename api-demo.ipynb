{
 "cells": [
  {
   "cell_type": "markdown",
   "metadata": {},
   "source": [
    "# Working with Data APIs\n",
    "\n",
    "**Sam Maurer // DCRP PhD Student // maurer@berkeley.edu // Oct. 7, 2015 // CP 255 demo**\n",
    "\n",
    "This notebook is the demo portion of an introduction to APIs, with particular emphasis on data-access APIs that operate over the web.\n",
    "\n",
    "In Part 1, we'll read and parse data from an automated USGS feed of earthquakes. In Part 2, we'll add query parameters to the workflow, using the Google Maps Geolocation API as an example. In Part 3, we'll add authentication and data streaming in order to access some Twitter APIs. "
   ]
  },
  {
   "cell_type": "markdown",
   "metadata": {},
   "source": [
    "### Setup (not required until Part 3)\n",
    "\n",
    "1. **From the command line, install this Python package for connecting to Twitter APIs:**  \n",
    "   `pip install TwitterAPI`  \n",
    "     \n",
    "   There are several different package managers for Python. We're using \"pip install\" instead of \"conda install\" because Anaconda doesn't include this package in its index. The lab computers should already have TwitterAPI installed.  \n",
    "   &nbsp;\n",
    "\n",
    "2. **Make sure `keys.py` is in the same directory as this notebook**  \n",
    "     \n",
    "   `keys.py` (provided separately) contains demo authentication keys for the Twitter APIs. For folks not taking the class, you can edit the `keys-example.py` file, following the instructions in the next step to obtain your own credentials.  \n",
    "   &nbsp;\n",
    "   \n",
    "3. **OPTIONAL: Sign up for your own Twitter API credentials (5 minutes)**  \n",
    "     \n",
    "   Twitter limits the number of simultaneous connections from a single account, so if you're willing to sign up for your own credentials, it will help the in-class demo go smoother!  \n",
    "     \n",
    "   * Log into Twitter or create an account: http://twitter.com  \n",
    "     &nbsp;\n",
    "     \n",
    "   * Register a new app development project: https://dev.twitter.com/apps/new  \n",
    "     &nbsp;  \n",
    "     (The form is geared toward people making smartphone or web apps, but you still have to fill it out... You can call the app an in-class demo and give the URL of your own Twitter page, for example)  \n",
    "     &nbsp;\n",
    "     \n",
    "   * Submit the form, go to the \"Keys and Access Tokens\" tab, and click on \"Create my access token\" at the bottom of the page  \n",
    "     &nbsp;\n",
    "     \n",
    "   * Copy these four codes into the `keys.py` file, replacing the demo credentials:  \n",
    "     (a) consumer key, (b) consumer secret, (c) access token, (d) access token secret  \n",
    "     &nbsp;\n",
    "     \n",
    "   * All done! Try running the first few code blocks in Part 3 to see if it worked\n",
    "   \n",
    "----- \n",
    "\n",
    "-----"
   ]
  },
  {
   "cell_type": "markdown",
   "metadata": {},
   "source": [
    "# Part 1: Reading from an automated data feed\n",
    "\n",
    "### USGS real-time earthquake feeds\n",
    "\n",
    "This is an API for near-real-time data on earthquakes. Results are provided in JSON format via HTTP. No authentication is needed, and rather than accepting arguments, the API has a separate endpoint for each permutation of the data.\n",
    "\n",
    "**API documentation:**  \n",
    "http://earthquake.usgs.gov/earthquakes/feed/v1.0/geojson.php\n",
    "\n",
    "**Sample API endpoint, for magnitude 4.5+ earthquakes in past day:**  \n",
    "http://earthquake.usgs.gov/earthquakes/feed/v1.0/summary/4.5_day.geojson  \n"
   ]
  },
  {
   "cell_type": "code",
   "execution_count": 12,
   "metadata": {
    "collapsed": true
   },
   "outputs": [],
   "source": [
    "%matplotlib inline\n",
    "\n",
    "import pandas as pd\n",
    "import urllib\n",
    "import json"
   ]
  },
  {
   "cell_type": "code",
   "execution_count": 31,
   "metadata": {
    "collapsed": false
   },
   "outputs": [
    {
     "name": "stdout",
     "output_type": "stream",
     "text": [
      "{\"type\":\"FeatureCollection\",\"metadata\":{\"generated\":1444111203000,\"url\":\"http://earthquake.usgs.gov/earthquakes/feed/v1.0/summary/2.5_week.geojson\",\"title\":\"USGS Magnitude 2.5+ Earthquakes, Past Week\",\"status\":200,\"api\":\"1.0.17\",\"count\":271},\"features\":[{\"type\":\"Feature\",\"properties\":{\"mag\":4.7,\"place\":\"89km WSW of Coquimbo, Chile\",\"time\":1444107104460,\"updated\":1444108238620,\"tz\":-300,\"url\":\"http://earthquake.usgs.gov/earthquakes/eventpage/us10003kme\",\"detail\":\"http://earthquake.usgs.gov/earthq\n",
      "<type 'str'>\n"
     ]
    }
   ],
   "source": [
    "# use endpoint for magnitude 2.5+ in past week\n",
    "endpoint_url = \"http://earthquake.usgs.gov/earthquakes/feed/v1.0/summary/2.5_week.geojson\"\n",
    "\n",
    "# open a connection to the URL\n",
    "connection = urllib.urlopen(endpoint_url)\n",
    "\n",
    "# download the results\n",
    "results = connection.read()\n",
    "\n",
    "print results[:500]  # first 500 characters\n",
    "print type(results)"
   ]
  },
  {
   "cell_type": "code",
   "execution_count": 32,
   "metadata": {
    "collapsed": false
   },
   "outputs": [
    {
     "name": "stdout",
     "output_type": "stream",
     "text": [
      "{u'geometry': {u'type': u'Point', u'coordinates': [-72.1952, -30.2732, 9.52]}, u'type': u'Feature', u'properties': {u'rms': 1.46, u'code': u'10003kme', u'cdi': 1, u'sources': u',us,', u'nst': None, u'tz': -300, u'title': u'M 4.7 - 89km WSW of Coquimbo, Chile', u'magType': u'mwr', u'detail': u'http://earthquake.usgs.gov/earthquakes/feed/v1.0/detail/us10003kme.geojson', u'sig': 340, u'net': u'us', u'type': u'earthquake', u'status': u'reviewed', u'updated': 1444108238620, u'felt': 0, u'alert': None, u'dmin': 0.627, u'mag': 4.7, u'gap': 89, u'types': u',cap,dyfi,geoserve,moment-tensor,nearby-cities,origin,phase-data,tectonic-summary,', u'url': u'http://earthquake.usgs.gov/earthquakes/eventpage/us10003kme', u'ids': u',us10003kme,', u'tsunami': 0, u'place': u'89km WSW of Coquimbo, Chile', u'time': 1444107104460, u'mmi': None}, u'id': u'us10003kme'}\n",
      "<type 'dict'>\n"
     ]
    }
   ],
   "source": [
    "# the results are a string with JSON-formatted data inside\n",
    "\n",
    "# parse the string into a Python data structure\n",
    "data = json.loads(results)\n",
    "\n",
    "print data['features'][0]  # first item from the array called 'features'\n",
    "print type(data)"
   ]
  },
  {
   "cell_type": "code",
   "execution_count": 33,
   "metadata": {
    "collapsed": false
   },
   "outputs": [
    {
     "name": "stdout",
     "output_type": "stream",
     "text": [
      "M 4.7 - 89km WSW of Coquimbo, Chile\n",
      "M 3.0 - 8km WNW of Anza, California\n",
      "M 2.7 - 9km NNW of Shelbyville, Kentucky\n",
      "M 4.6 - 84km W of Illapel, Chile\n",
      "M 4.2 - 70km NW of Rapar, India\n",
      "M 3.9 - 135km NE of Chignik Lake, Alaska\n",
      "M 2.7 - 54km ESE of Lovelock, Nevada\n",
      "M 4.1 - 69km WNW of La Ligua, Chile\n",
      "M 4.2 - 71km WNW of La Ligua, Chile\n",
      "M 2.5 - 68km ESE of Lakeview, Oregon\n",
      "M 2.7 - 68km ESE of Lakeview, Oregon\n",
      "M 2.6 - 8km SE of Pole Ojea, Puerto Rico\n",
      "M 2.6 - 23km N of Upper Lake, California\n",
      "M 2.8 - 23km W of Perry, Oklahoma\n",
      "M 5.7 - 74km N of Amatignak Island, Alaska\n",
      "M 4.7 - 158km WSW of Ovalle, Chile\n",
      "M 5.9 - 43km SSW of Coquimbo, Chile\n",
      "M 2.9 - 69km ESE of Lakeview, Oregon\n",
      "M 2.6 - 42km SSW of Larsen Bay, Alaska\n",
      "M 3.0 - 95km WSW of Healy, Alaska\n",
      "M 3.4 - 85km N of Road Town, British Virgin Islands\n",
      "M 2.5 - 54km E of Old Iliamna, Alaska\n",
      "M 3.0 - 94km WSW of Healy, Alaska\n",
      "M 2.9 - 83km W of Cantwell, Alaska\n",
      "M 4.5 - 32km N of Ramechhap, Nepal\n",
      "M 3.5 - 20km E of Cherokee, Oklahoma\n",
      "M 2.9 - 81km NNW of Talkeetna, Alaska\n",
      "M 4.7 - 200km SE of L'Esperance Rock, New Zealand\n",
      "M 4.1 - 57km WSW of Illapel, Chile\n",
      "M 4.2 - 47km WSW of Amatignak Island, Alaska\n",
      "M 3.0 - 48km WSW of Stella, Puerto Rico\n",
      "M 5.0 - Off the east coast of the North Island of New Zealand\n",
      "M 4.3 - 102km ESE of Iwaki, Japan\n",
      "M 4.6 - 43km N of Palue, Indonesia\n",
      "M 3.8 - 26km SSE of Boca de Yuma, Dominican Republic\n",
      "M 2.8 - 67km SW of Anchor Point, Alaska\n",
      "M 4.7 - 124km SSW of Kotaagung, Indonesia\n",
      "M 4.4 - 20km SE of Jarm, Afghanistan\n",
      "M 3.0 - 30km SE of Redoubt Volcano, Alaska\n",
      "M 2.6 - 9km SW of Honoka'a, Hawaii\n",
      "M 2.8 - 7km NNE of Helena, Oklahoma\n",
      "M 4.8 - South of the Fiji Islands\n",
      "M 4.9 - 81km NNE of Obelobel, Indonesia\n",
      "M 2.6 - 9km W of Templeton, California\n",
      "M 4.9 - 93km W of Ovalle, Chile\n",
      "M 4.6 - South of the Fiji Islands\n",
      "M 4.8 - 146km S of Bambanglipuro, Indonesia\n",
      "M 3.3 - 24km NE of Fritz Creek, Alaska\n",
      "M 2.9 - 12km SSW of Alberto Oviedo Mota, B.C., MX\n",
      "M 4.8 - 91km ENE of Hihifo, Tonga\n",
      "M 5.4 - 33km SSW of Lluta, Peru\n",
      "M 3.0 - 70km ESE of Lakeview, Oregon\n",
      "M 4.4 - 58km NW of San Antonio de los Cobres, Argentina\n",
      "M 3.3 - 71km ESE of Lakeview, Oregon\n",
      "M 4.7 - 100km NE of Chichi-shima, Japan\n",
      "M 3.1 - 90km NNW of Chirikof Island, Alaska\n",
      "M 5.2 - 63km W of Ovalle, Chile\n",
      "M 4.6 - 64km WSW of Ovalle, Chile\n",
      "M 4.7 - 205km ESE of Antonio Enes, Mozambique\n",
      "M 3.0 - 90km NNW of Road Town, British Virgin Islands\n",
      "M 2.8 - 100km W of Willow, Alaska\n",
      "M 4.6 - South of the Fiji Islands\n",
      "M 2.6 - 71km N of Tierras Nuevas Poniente, Puerto Rico\n",
      "M 2.6 - 6km N of Edmond, Oklahoma\n",
      "M 2.9 - 45km W of Rincon, Puerto Rico\n",
      "M 4.7 - 20km NNE of Taniwel, Indonesia\n",
      "M 2.8 - 73km N of Tierras Nuevas Poniente, Puerto Rico\n",
      "M 3.3 - 8km NNE of Helena Valley Northwest, Montana\n",
      "M 5.3 - 85km WSW of Coquimbo, Chile\n",
      "M 2.9 - 8km NNE of Helena Valley Northwest, Montana\n",
      "M 4.5 - 207km WSW of Abepura, Indonesia\n",
      "M 2.6 - 50km NE of Road Town, British Virgin Islands\n",
      "M 2.6 - 14km SSE of Yosemite Valley, California\n",
      "M 2.7 - 21km NW of Ludlow, California\n",
      "M 3.9 - 172km W of Illapel, Chile\n",
      "M 4.1 - 30km SE of Al Marj, Libya\n",
      "M 2.8 - 6km N of Waikoloa, Hawaii\n",
      "M 2.7 - 19km SSE of Pahala, Hawaii\n",
      "M 2.7 - 6km N of Waikoloa, Hawaii\n",
      "M 4.6 - 86km SW of Canete, Chile\n",
      "M 4.3 - 53km N of La Serena, Chile\n",
      "M 4.4 - 62km ESE of Ishinomaki, Japan\n",
      "M 4.2 - 31km SW of Ovalle, Chile\n",
      "M 4.1 - 49km W of Ovalle, Chile\n",
      "M 2.8 - 10km S of Anthony, Kansas\n",
      "M 2.6 - 27km ENE of Road Town, British Virgin Islands\n",
      "M 2.6 - 19km SSE of Ridgemark, California\n",
      "M 4.9 - 29km SE of Nago, Japan\n",
      "M 2.5 - 49km NE of Road Town, British Virgin Islands\n",
      "M 2.5 - 27km SSW of Healy, Alaska\n",
      "M 4.5 - 43km WNW of Coquimbo, Chile\n",
      "M 4.9 - 198km NW of Tanahmerah, Indonesia\n",
      "M 2.6 - 7km NNE of Helena Valley Northwest, Montana\n",
      "M 2.8 - 64km SSW of Redoubt Volcano, Alaska\n",
      "M 2.9 - 6km ESE of Perry, Oklahoma\n",
      "M 4.9 - 43km WNW of Coquimbo, Chile\n",
      "M 4.9 - Indian Ocean Triple Junction\n",
      "M 4.7 - 126km W of Illapel, Chile\n",
      "M 5.4 - Indian Ocean Triple Junction\n",
      "M 2.8 - 45km NNE of Road Town, British Virgin Islands\n",
      "M 4.9 - 99km SSW of Biha, Indonesia\n",
      "M 5.0 - Northern Mid-Atlantic Ridge\n",
      "M 4.6 - 76km SW of Puerto Madero, Mexico\n",
      "M 5.8 - 45km SSW of Coquimbo, Chile\n",
      "M 5.6 - 17km N of Lebu, Chile\n",
      "M 2.5 - 30km NW of Rincon, Puerto Rico\n",
      "M 2.6 - 10km NE of Helena, Oklahoma\n",
      "M 2.7 - 11km SE of Esperanza, Puerto Rico\n",
      "M 4.3 - 22km NE of Agar, China\n",
      "M 4.4 - 111km E of Gualaquiza, Ecuador\n",
      "M 3.0 - 21km NW of Hawthorne, Nevada\n",
      "M 3.3 - 10km NW of Caldwell, Kansas\n",
      "M 4.4 - 59km WNW of Valparaiso, Chile\n",
      "M 5.1 - 188km SSE of L'Esperance Rock, New Zealand\n",
      "M 4.6 - 165km ENE of Olonkinbyen, Svalbard and Jan Mayen\n",
      "M 2.6 - 35km W of Kenai, Alaska\n",
      "M 4.4 - 183km ENE of Olonkinbyen, Svalbard and Jan Mayen\n",
      "M 4.3 - 61km SSE of Vanimo, Papua New Guinea\n",
      "M 4.3 - 38km SW of San Antonio, Chile\n",
      "M 3.0 - 3km SSE of Perry, Oklahoma\n",
      "M 2.5 - 125km WNW of Talkeetna, Alaska\n",
      "M 4.0 - 55km SSW of Ovalle, Chile\n",
      "M 3.1 - 5km SSE of Circle Hot Springs Station, Alaska\n",
      "M 4.5 - 100km W of Ambunti, Papua New Guinea\n",
      "M 3.3 - 144km NNE of Road Town, British Virgin Islands\n",
      "M 4.2 - 4km SSW of Izumi, Japan\n",
      "M 3.4 - 102km N of San Juan, Puerto Rico\n",
      "M 3.3 - 92km N of San Juan, Puerto Rico\n",
      "M 2.9 - 13km E of Pahala, Hawaii\n",
      "M 2.5 - 14km E of Pahala, Hawaii\n",
      "M 2.7 - 124km NW of Talkeetna, Alaska\n",
      "M 5.2 - 162km WSW of Ovalle, Chile\n",
      "M 5.1 - 73km W of Ovalle, Chile\n",
      "M 4.5 - 37km WSW of Ashkasham, Afghanistan\n",
      "M 5.5 - 15km ESE of Tondano, Indonesia\n",
      "M 4.5 - 94km WNW of La Ligua, Chile\n",
      "M 3.4 - 1km WNW of Campanilla, Puerto Rico\n",
      "M 3.2 - 66km WSW of Anchor Point, Alaska\n",
      "M 3.2 - 6km NNW of Stroud, Oklahoma\n",
      "M 2.7 - 9km NW of Ferndale, California\n",
      "M 4.6 - 33km SW of Hakha, Burma\n",
      "M 2.5 - 43km E of Cape Yakataga, Alaska\n",
      "M 4.3 - 25km SSW of El Rosario, El Salvador\n",
      "M 3.1 - 11km SE of Esperanza, Puerto Rico\n",
      "M 2.8 - 62km N of San Juan, Puerto Rico\n",
      "M 2.8 - 11km SE of Esperanza, Puerto Rico\n",
      "M 4.6 - 14km E of Coihueco, Chile\n",
      "M 2.9 - 9km SE of Esperanza, Puerto Rico\n",
      "M 2.8 - 9km SE of Esperanza, Puerto Rico\n",
      "M 2.9 - 7km ESE of Esperanza, Puerto Rico\n",
      "M 2.5 - 47km NNE of Vieques, Puerto Rico\n",
      "M 2.9 - 0km SW of Pawnee, Oklahoma\n",
      "M 2.9 - 33km ESE of Vieques, Puerto Rico\n",
      "M 2.8 - 34km SSE of Culebra, Puerto Rico\n",
      "M 2.6 - 0km ESE of Pawnee, Oklahoma\n",
      "M 3.8 - 13km ENE of Helena, Oklahoma\n",
      "M 2.7 - 18km E of Anchorage, Alaska\n",
      "M 4.2 - 18km SE of Esperanza, Puerto Rico\n",
      "M 4.6 - 81km N of Dobo, Indonesia\n",
      "M 5.4 - 31km S of Hihifo, Tonga\n",
      "M 4.6 - 12km S of Antsahe, Comoros\n",
      "M 2.7 - 0km E of Irving, Texas\n",
      "M 3.0 - 71km ESE of Lakeview, Oregon\n",
      "M 4.9 - 40km NW of Lluta, Peru\n",
      "M 4.5 - 60km ENE of Petite Riviere Salee, Martinique\n",
      "M 4.2 - 9km ENE of Quepos, Costa Rica\n",
      "M 2.5 - 27km W of Medford, Oklahoma\n",
      "M 4.1 - 50km WNW of Valparaiso, Chile\n",
      "M 2.8 - 12km SE of Alva, Oklahoma\n",
      "M 4.4 - 4km NE of Ishikawa, Japan\n",
      "M 2.9 - 39km NE of Luquillo, Puerto Rico\n",
      "M 3.1 - 55km NNE of Road Town, British Virgin Islands\n",
      "M 2.6 - 46km S of Redoubt Volcano, Alaska\n",
      "M 2.5 - 89km NW of Talkeetna, Alaska\n",
      "M 3.2 - 5km SE of Perry, Oklahoma\n",
      "M 2.7 - 6km WSW of Alberto Oviedo Mota, B.C., MX\n",
      "M 3.1 - 54km ESE of Road Town, British Virgin Islands\n",
      "M 2.7 - 61km NNE of Coldfoot, Alaska\n",
      "M 3.7 - 6km SE of Perry, Oklahoma\n",
      "M 2.9 - 69km ESE of Lakeview, Oregon\n",
      "M 2.7 - 21km ENE of Goldfield, Nevada\n",
      "M 4.4 - 103km WSW of Illapel, Chile\n",
      "M 5.6 - 139km SSW of Biha, Indonesia\n",
      "M 4.6 - 71km WSW of Coquimbo, Chile\n",
      "M 2.8 - 1km N of Fuig, Puerto Rico\n",
      "M 4.7 - 142km NE of San Pedro de Atacama, Chile\n",
      "M 4.5 - 116km W of Hihifo, Tonga\n",
      "M 5.3 - 86km SSW of Biha, Indonesia\n",
      "M 4.2 - 87km WNW of Ovalle, Chile\n",
      "M 4.4 - 35km WSW of Ovalle, Chile\n",
      "M 4.2 - 49km SSE of Jahrom, Iran\n",
      "M 3.3 - 98km S of Atka, Alaska\n",
      "M 4.4 - 94km W of Illapel, Chile\n",
      "M 2.9 - 24km WNW of Fairview, Oklahoma\n",
      "M 2.5 - 5km SE of Perry, Oklahoma\n",
      "M 4.2 - 50km W of Ovalle, Chile\n",
      "M 5.5 - 36km ESE of Tres Palos, Mexico\n",
      "M 2.6 - 4km NE of Langston, Oklahoma\n",
      "M 5.7 - 60km NNW of Visokoi Island, South Georgia and the South Sandwich Islands\n",
      "M 4.5 - 260km SE of Lambasa, Fiji\n",
      "M 2.8 - 4km NE of Langston, Oklahoma\n",
      "M 2.9 - 20km W of Perry, Oklahoma\n",
      "M 3.8 - 54km ESE of Boca de Yuma, Dominican Republic\n",
      "M 4.5 - Northern East Pacific Rise\n",
      "M 2.5 - 74km E of Chernabura Island, Alaska\n",
      "M 3.5 - 77km E of Chernabura Island, Alaska\n",
      "M 2.6 - 11km S of Alva, Oklahoma\n",
      "M 2.5 - 91km W of Ferndale, California\n",
      "M 3.3 - 120km N of Brenas, Puerto Rico\n",
      "M 2.8 - 36km SSE of Amukta Island, Alaska\n",
      "M 4.7 - 275km SE of Hachijo-jima, Japan\n",
      "M 2.6 - 16km W of Wellington, Kansas\n",
      "M 3.0 - 6km SSE of Cherokee, Oklahoma\n",
      "M 2.6 - 9km SSW of Amukta Island, Alaska\n",
      "M 3.0 - 75km SSW of Unalaska, Alaska\n",
      "M 2.5 - 23km E of Cherokee, Oklahoma\n",
      "M 2.8 - 89km E of Akutan, Alaska\n",
      "M 2.7 - 25km E of Cherokee, Oklahoma\n",
      "M 5.0 - 150km SW of Panguna, Papua New Guinea\n",
      "M 4.8 - 49km W of Ovalle, Chile\n",
      "M 4.8 - 227km SE of L'Esperance Rock, New Zealand\n",
      "M 3.8 - 49km W of Ovalle, Chile\n",
      "M 4.1 - 135km S of Atka, Alaska\n",
      "M 2.5 - 54km N of Amatignak Island, Alaska\n",
      "M 2.7 - 10km SW of Charleston, Missouri\n",
      "M 4.7 - 58km WNW of Illapel, Chile\n",
      "M 3.1 - 7km ENE of Greater Sudbury, Canada\n",
      "M 4.4 - 85km W of Kashi, China\n",
      "M 2.6 - 6km SE of Perry, Oklahoma\n",
      "M 5.4 - 42km W of Abepura, Indonesia\n",
      "M 3.3 - 10km NNE of Helena, Oklahoma\n",
      "M 2.5 - 10km NNE of Helena, Oklahoma\n",
      "M 2.7 - 18km NE of Fairview, Oklahoma\n",
      "M 2.6 - 17km SW of Amukta Island, Alaska\n",
      "M 5.2 - 181km SSW of Lorengau, Papua New Guinea\n",
      "M 4.2 - 5km WNW of Hualian, Taiwan\n",
      "M 4.8 - 143km ENE of Bathsheba, Barbados\n",
      "M 2.5 - 13km WSW of Little Sitkin Island, Alaska\n",
      "M 5.0 - 63km ESE of Tobelo, Indonesia\n",
      "M 4.5 - 83km W of Illapel, Chile\n",
      "M 4.5 - 60km NE of Barkhan, Pakistan\n",
      "M 4.7 - 138km ENE of Bathsheba, Barbados\n",
      "M 4.1 - 1km NE of Nereju, Romania\n",
      "M 5.4 - 121km SSW of Kokopo, Papua New Guinea\n",
      "M 4.2 - 21km NW of El Hoyo, Argentina\n",
      "M 2.7 - 11km SE of Esperanza, Puerto Rico\n",
      "M 2.6 - 72km SW of Nikolski, Alaska\n",
      "M 5.0 - 22km SSW of Lazaro Cardenas, Mexico\n",
      "M 2.7 - 23km NE of Soledad, California\n",
      "M 3.1 - 68km SE of Adak, Alaska\n",
      "M 4.8 - 37km WNW of Sola, Vanuatu\n",
      "M 4.9 - 81km WNW of Tobelo, Indonesia\n",
      "M 4.7 - 105km WSW of Tual, Indonesia\n",
      "M 4.7 - 48km W of Valparaiso, Chile\n",
      "M 4.1 - 48km W of Valparaiso, Chile\n",
      "M 4.5 - 157km ENE of Bathsheba, Barbados\n",
      "M 3.1 - 6km NE of Helena, Oklahoma\n",
      "M 2.7 - 13km NW of Progreso, B.C., MX\n",
      "M 4.3 - South of the Fiji Islands\n",
      "M 4.7 - 139km E of Yamada, Japan\n",
      "M 2.7 - 74km NW of Aguadilla, Puerto Rico\n",
      "M 4.2 - 26km E of Nagarkot, Nepal\n",
      "M 4.4 - 91km WNW of Illapel, Chile\n",
      "M 4.5 - 23km NW of Dharchula, India\n",
      "M 4.9 - 38km SSW of Tympakion, Greece\n",
      "M 2.8 - 143km SE of Akutan, Alaska\n",
      "M 5.0 - 172km ENE of Miyako, Japan\n",
      "M 2.7 - 18km WNW of Culebra, Puerto Rico\n",
      "M 2.7 - 34km WNW of Big Lake, Alaska\n",
      "M 2.7 - 90km SSE of Nikolski, Alaska\n",
      "M 2.6 - 61km SE of Adak, Alaska\n"
     ]
    }
   ],
   "source": [
    "# pull out the event descriptions\n",
    "\n",
    "for quake in data['features']:\n",
    "    print quake['properties']['title']"
   ]
  },
  {
   "cell_type": "code",
   "execution_count": 34,
   "metadata": {
    "collapsed": false
   },
   "outputs": [
    {
     "name": "stdout",
     "output_type": "stream",
     "text": [
      "271\n"
     ]
    }
   ],
   "source": [
    "# pull out magnitudes and depths into a pandas dataframe\n",
    "\n",
    "# first, set up a dictionary of empty arrays\n",
    "d = {'magnitude': [], 'depth': []}\n",
    "\n",
    "# loop through the earthquakes and pull out datapoints\n",
    "for quake in data['features']:\n",
    "    d['magnitude'].append(quake['properties']['mag'])\n",
    "    d['depth'].append(quake['geometry']['coordinates'][2])\n",
    "\n",
    "# then load it all into a dataframe\n",
    "df = pd.DataFrame.from_dict(d)\n",
    "\n",
    "print len(df)"
   ]
  },
  {
   "cell_type": "code",
   "execution_count": 35,
   "metadata": {
    "collapsed": false
   },
   "outputs": [
    {
     "name": "stdout",
     "output_type": "stream",
     "text": [
      "   depth  magnitude\n",
      "0   9.52       4.70\n",
      "1  11.18       2.97\n",
      "2   4.09       2.65\n",
      "3  26.07       4.60\n",
      "4  10.00       4.20\n"
     ]
    }
   ],
   "source": [
    "print df.head()"
   ]
  },
  {
   "cell_type": "code",
   "execution_count": 36,
   "metadata": {
    "collapsed": false
   },
   "outputs": [
    {
     "name": "stdout",
     "output_type": "stream",
     "text": [
      "            depth   magnitude\n",
      "count  271.000000  271.000000\n",
      "mean    47.599384    3.706753\n",
      "std     86.633670    0.977558\n",
      "min      0.000000    2.500000\n",
      "25%     10.000000    2.800000\n",
      "50%     19.300000    3.400000\n",
      "75%     47.480000    4.600000\n",
      "max    559.030000    5.900000\n"
     ]
    }
   ],
   "source": [
    "print df.describe()"
   ]
  },
  {
   "cell_type": "code",
   "execution_count": 37,
   "metadata": {
    "collapsed": false
   },
   "outputs": [
    {
     "data": {
      "text/plain": [
       "<matplotlib.axes._subplots.AxesSubplot at 0x10a332550>"
      ]
     },
     "execution_count": 37,
     "metadata": {},
     "output_type": "execute_result"
    },
    {
     "data": {
      "image/png": "[encoded data removed]",
      "text/plain": [
       "<matplotlib.figure.Figure at 0x10a332a50>"
      ]
     },
     "metadata": {},
     "output_type": "display_data"
    }
   ],
   "source": [
    "# plot the depth vs. magnitude\n",
    "\n",
    "df.plot(x='magnitude', y='depth', kind='scatter')"
   ]
  },
  {
   "cell_type": "code",
   "execution_count": 38,
   "metadata": {
    "collapsed": false
   },
   "outputs": [
    {
     "name": "stdout",
     "output_type": "stream",
     "text": [
      "file saved\n"
     ]
    }
   ],
   "source": [
    "# save dataframe to disk\n",
    "\n",
    "df.to_csv('usgs_earthquake_data.csv')\n",
    "\n",
    "print 'file saved'"
   ]
  },
  {
   "cell_type": "code",
   "execution_count": 40,
   "metadata": {
    "collapsed": false
   },
   "outputs": [
    {
     "name": "stdout",
     "output_type": "stream",
     "text": [
      "   depth  magnitude\n",
      "0   9.52       4.70\n",
      "1  11.18       2.97\n",
      "2   4.09       2.65\n",
      "3  26.07       4.60\n",
      "4  10.00       4.20\n"
     ]
    }
   ],
   "source": [
    "# read it back later\n",
    "\n",
    "new_df = pd.DataFrame.from_csv('usgs_earthquake_data.csv')\n",
    "\n",
    "print new_df.head()"
   ]
  },
  {
   "cell_type": "code",
   "execution_count": null,
   "metadata": {
    "collapsed": true
   },
   "outputs": [],
   "source": []
  },
  {
   "cell_type": "code",
   "execution_count": null,
   "metadata": {
    "collapsed": true
   },
   "outputs": [],
   "source": []
  },
  {
   "cell_type": "code",
   "execution_count": null,
   "metadata": {
    "collapsed": true
   },
   "outputs": [],
   "source": []
  },
  {
   "cell_type": "markdown",
   "metadata": {},
   "source": [
    "# Part 2: Querying an API endpoint\n",
    "\n",
    "### Google Maps Geocoding API\n",
    "\n",
    "Google Maps has several APIs for getting search results as data. This one looks up latitude-longidtude coordinates (and other place information) for street addresses, which is called geocoding. \n",
    "\n",
    "It works similarly to the earthquakes example, with query parameters added to the URL endpoint.\n",
    "\n",
    "**API documentation:**  \n",
    "https://developers.google.com/maps/documentation/geocoding/intro\n",
    "\n",
    "**API endpoint:**  \n",
    "https://maps.googleapis.com/maps/api/geocode/json\n",
    "\n",
    "**API endpoint with query parameters:**  \n",
    "https://maps.googleapis.com/maps/api/geocode/json?address=Wurster+Hall"
   ]
  },
  {
   "cell_type": "code",
   "execution_count": 15,
   "metadata": {
    "collapsed": false
   },
   "outputs": [
    {
     "name": "stdout",
     "output_type": "stream",
     "text": [
      "https://maps.googleapis.com/maps/api/geocode/json?address=Wurster+Hall%2C+Berkeley%2C+CA\n"
     ]
    }
   ],
   "source": [
    "# we have to encode the search query so that it can be passed as a URL, \n",
    "# with spaces and other special characters removed\n",
    "\n",
    "endpoint = 'https://maps.googleapis.com/maps/api/geocode/json'\n",
    "\n",
    "params = {\n",
    "    'address': 'Wurster Hall, Berkeley, CA',\n",
    "}\n",
    "\n",
    "url = endpoint + '?' + urllib.urlencode(params)\n",
    "print url"
   ]
  },
  {
   "cell_type": "code",
   "execution_count": 16,
   "metadata": {
    "collapsed": false
   },
   "outputs": [
    {
     "name": "stdout",
     "output_type": "stream",
     "text": [
      "{u'status': u'OK', u'results': [{u'geometry': {u'location_type': u'ROOFTOP', u'bounds': {u'northeast': {u'lat': 37.871116, u'lng': -122.2541912}, u'southwest': {u'lat': 37.8700084, u'lng': -122.2552699}}, u'viewport': {u'northeast': {u'lat': 37.8719111802915, u'lng': -122.2533815697085}, u'southwest': {u'lat': 37.86921321970851, u'lng': -122.2560795302915}}, u'location': {u'lat': 37.8707352, u'lng': -122.2548935}}, u'address_components': [{u'long_name': u'Wurster Hall', u'types': [u'premise'], u'short_name': u'Wurster Hall'}, {u'long_name': u'Berkeley', u'types': [u'locality', u'political'], u'short_name': u'Berkeley'}, {u'long_name': u'Alameda County', u'types': [u'administrative_area_level_2', u'political'], u'short_name': u'Alameda County'}, {u'long_name': u'California', u'types': [u'administrative_area_level_1', u'political'], u'short_name': u'CA'}, {u'long_name': u'United States', u'types': [u'country', u'political'], u'short_name': u'US'}, {u'long_name': u'94720', u'types': [u'postal_code'], u'short_name': u'94720'}], u'place_id': u'ChIJnzKeUCV8hYARccYjWTGEJUg', u'formatted_address': u'Wurster Hall, Berkeley, CA 94720, USA', u'types': [u'premise']}]}\n"
     ]
    }
   ],
   "source": [
    "# open a connection to the URL\n",
    "connection = urllib.urlopen(url)\n",
    "\n",
    "# download and parse the results\n",
    "results = json.loads(connection.read())\n",
    "\n",
    "print results"
   ]
  },
  {
   "cell_type": "code",
   "execution_count": 96,
   "metadata": {
    "collapsed": false
   },
   "outputs": [
    {
     "name": "stdout",
     "output_type": "stream",
     "text": [
      "Wurster Hall, Berkeley, CA 94720, USA\n"
     ]
    }
   ],
   "source": [
    "# pull out the formatted addresses\n",
    "\n",
    "for item in results['results']:\n",
    "    print item['formatted_address']"
   ]
  },
  {
   "cell_type": "code",
   "execution_count": null,
   "metadata": {
    "collapsed": true
   },
   "outputs": [],
   "source": []
  },
  {
   "cell_type": "code",
   "execution_count": null,
   "metadata": {
    "collapsed": true
   },
   "outputs": [],
   "source": []
  },
  {
   "cell_type": "code",
   "execution_count": null,
   "metadata": {
    "collapsed": true
   },
   "outputs": [],
   "source": []
  },
  {
   "cell_type": "markdown",
   "metadata": {},
   "source": [
    "# Part 3: Querying an API with authentication\n",
    "\n",
    "### Twitter REST and Streaming APIs\n",
    "\n",
    "Twitter's APIs also operate over HTTP, but they require a back-and-forth authentication process at the beginning of a connection. It's easier to have a Python library handle this than to create the query URLs ourselves.\n",
    "\n",
    "The REST APIs perform stand-alone operations: we submit a query and receive results, like in earlier examples. The Streaming API continues sending results in real time until we disconnect.\n",
    "\n",
    "**API documentation:**  \n",
    "https://dev.twitter.com/rest/public  \n",
    "https://dev.twitter.com/streaming/overview\n",
    "\n",
    "**Documentation for third-party Python \"wrapper\"**:  \n",
    "https://github.com/geduldig/TwitterAPI"
   ]
  },
  {
   "cell_type": "code",
   "execution_count": 1,
   "metadata": {
    "collapsed": true
   },
   "outputs": [],
   "source": [
    "from TwitterAPI import TwitterAPI"
   ]
  },
  {
   "cell_type": "code",
   "execution_count": 2,
   "metadata": {
    "collapsed": true
   },
   "outputs": [],
   "source": [
    "# import API credentials from keys.py file in the\n",
    "# same directory as this notebook\n",
    "\n",
    "from keys import *"
   ]
  },
  {
   "cell_type": "code",
   "execution_count": 3,
   "metadata": {
    "collapsed": false
   },
   "outputs": [
    {
     "name": "stdout",
     "output_type": "stream",
     "text": [
      "Connection is set up but not tested\n"
     ]
    }
   ],
   "source": [
    "# set up an API connection using credentials from the keys file\n",
    "\n",
    "api = TwitterAPI(consumer_key, consumer_secret, \n",
    "                 access_token, access_token_secret)\n",
    "\n",
    "print \"Connection is set up but not tested\""
   ]
  },
  {
   "cell_type": "markdown",
   "metadata": {},
   "source": [
    "### Making a simple data request"
   ]
  },
  {
   "cell_type": "code",
   "execution_count": 4,
   "metadata": {
    "collapsed": false
   },
   "outputs": [
    {
     "name": "stdout",
     "output_type": "stream",
     "text": [
      "@coleman Yep! There's a link here http://t.co/UMsr37isHL to our GitHub repo where we're sharing materials as the semester goes along.\n"
     ]
    }
   ],
   "source": [
    "# Most recent tweet from @GBoeing's timeline\n",
    "\n",
    "endpoint = 'statuses/user_timeline'\n",
    "params = {\n",
    "    'screen_name': 'gboeing', \n",
    "    'count': 1\n",
    "}\n",
    "r = api.request(endpoint, params)\n",
    "\n",
    "for tweet in r.get_iterator():\n",
    "    print tweet['text']"
   ]
  },
  {
   "cell_type": "code",
   "execution_count": 5,
   "metadata": {
    "collapsed": false
   },
   "outputs": [
    {
     "name": "stdout",
     "output_type": "stream",
     "text": [
      "[u'contributors', u'truncated', u'text', u'is_quote_status', u'in_reply_to_status_id', u'id', u'favorite_count', u'source', u'retweeted', u'coordinates', u'entities', u'in_reply_to_screen_name', u'id_str', u'retweet_count', u'in_reply_to_user_id', u'favorited', u'user', u'geo', u'in_reply_to_user_id_str', u'possibly_sensitive', u'lang', u'created_at', u'in_reply_to_status_id_str', u'place']\n"
     ]
    }
   ],
   "source": [
    "# What other data is there?\n",
    "\n",
    "print tweet.keys()"
   ]
  },
  {
   "cell_type": "code",
   "execution_count": 6,
   "metadata": {
    "collapsed": false
   },
   "outputs": [
    {
     "name": "stdout",
     "output_type": "stream",
     "text": [
      "Tweet      //  @coleman Yep! There's a link here http://t.co/UMsr37isHL to our GitHub repo where we're sharing materials as the semester goes along.\n",
      "Timestamp  //  Mon Oct 05 23:30:52 +0000 2015\n",
      "Retweets   //  0\n",
      "Favorites  //  0\n",
      "Geotag     //  None\n",
      "Language   //  en\n",
      "User       //  gboeing\n",
      "Followers  //  1671\n",
      "Profile    //  PhD candidate in urban planning at @UCBerkeley. Cities, complexity, livability, urban design, data.\n"
     ]
    }
   ],
   "source": [
    "# Contents of some additional fields...\n",
    "# Here are the definitions: https://dev.twitter.com/overview/api/tweets\n",
    "\n",
    "for tweet in r.get_iterator():\n",
    "    print \"Tweet      // \", tweet['text']\n",
    "    print \"Timestamp  // \", tweet['created_at']\n",
    "    print \"Retweets   // \", tweet['retweet_count']\n",
    "    print \"Favorites  // \", tweet['favorite_count']\n",
    "    print \"Geotag     // \", tweet['coordinates']\n",
    "    print \"Language   // \", tweet['lang']\n",
    "    print \"User       // \", tweet['user']['screen_name']\n",
    "    print \"Followers  // \", tweet['user']['followers_count']\n",
    "    print \"Profile    // \", tweet['user']['description']"
   ]
  },
  {
   "cell_type": "markdown",
   "metadata": {},
   "source": [
    "### Other API endpoints allow different types of searches"
   ]
  },
  {
   "cell_type": "code",
   "execution_count": 9,
   "metadata": {
    "collapsed": false
   },
   "outputs": [
    {
     "name": "stdout",
     "output_type": "stream",
     "text": [
      "Just for reference: The #FolsomStreetFair was 8 days ago. #SF #perpetualFolsom #leather #MUNI… https://t.co/28WOhB6tyt\n",
      "\n",
      "Nose chau a dormirrr #muni #oficina\n",
      "\n",
      "RT @sfbay: Earlier: Geary bus rapid transit project hits milestone http://t.co/mxESEwndx4 #Muni via @JChinn84 http://t.co/Ss1BC2w8VU\n",
      "\n",
      "Not a BRT, you do wonder if these \"advisors\" have ever tried to ride the #muni F in #SF because that's the disruptive LOS they're planning.\n",
      "\n",
      "RT @sfbay: Earlier: Geary bus rapid transit project hits milestone http://t.co/mxESEwndx4 #Muni via @JChinn84 http://t.co/Ss1BC2w8VU\n",
      "\n"
     ]
    }
   ],
   "source": [
    "# Search for public tweets about #muni\n",
    "\n",
    "endpoint = 'search/tweets'\n",
    "params = {\n",
    "    'q': '#muni', \n",
    "    'count': 5\n",
    "}\n",
    "r = api.request(endpoint, params)\n",
    "\n",
    "for tweet in r.get_iterator():\n",
    "    print tweet['text'] + '\\n'"
   ]
  },
  {
   "cell_type": "code",
   "execution_count": 10,
   "metadata": {
    "collapsed": false
   },
   "outputs": [
    {
     "name": "stdout",
     "output_type": "stream",
     "text": [
      "लालू ने मीडिया को गाली दी http://t.co/s2bwQCbIla\n",
      "\n",
      "@rksir1 @saurabhshukla0 hum ahinsake pujari sirf isliyehai taaki gandagi gandagiko khud us hadhtak saaf kare jab sirf do hath safai ke kabil\n",
      "\n",
      "मीडिया विश्लेषक Utpal Kalal-'सच में संत और राष्ट्रहित में लगे लोगों पर झूठे आरोप लगाकर #Media420 आस्था से खिलवाड़ कर रहा है'\n",
      "\n",
      "RT @chiya9: \"मैं सुषमा स्वराज ( foreign minister)\n",
      "\"आप विदेश नहीं जाती ???\n",
      "\" मेरी duty बस airport तक ही है http://t.co/VAEx7HqIMz\n",
      "\n",
      "पायल हज़ारो रूपये में आती है पर\n",
      "पैरो में पहनी जाती है..\n",
      "और\n",
      "बिंदी 2 रूपये में आती है मगर माथे पर\n",
      "सजाई जाती है..... http://t.co/GqJ6BdrO41\n",
      "\n"
     ]
    }
   ],
   "source": [
    "# Search for public tweets in Hindi\n",
    "\n",
    "endpoint = 'search/tweets'\n",
    "params = {\n",
    "    'q': '*', \n",
    "    'lang': 'hi', \n",
    "    'count': 5\n",
    "} \n",
    "r = api.request(endpoint, params)\n",
    "\n",
    "for tweet in r.get_iterator():\n",
    "    print tweet['text'] + '\\n'"
   ]
  },
  {
   "cell_type": "code",
   "execution_count": 50,
   "metadata": {
    "collapsed": false
   },
   "outputs": [
    {
     "name": "stdout",
     "output_type": "stream",
     "text": [
      "Soka University had a blast at UC Berkeley's graduate school fair. Our Admission Operations… https://t.co/x7RvEOCGlB\n",
      "\n",
      "Hot Seller: Mummenschanz @ Cal Performances' Zellerbach Hall (Berkeley, CA) http://t.co/GenMFwHU4r http://t.co/owzw7rGpvD\n",
      "\n",
      "Hot Seller: Mummenschanz @ Cal Performances' Zellerbach Hall (Berkeley, CA) http://t.co/gsUuiC5Iop http://t.co/hzDQufCQIl\n",
      "\n",
      "Hot Seller: Mummenschanz @ Cal Performances' Zellerbach Hall (Berkeley, CA) http://t.co/KY6vpLcpzc http://t.co/XYRqSHPQPh\n",
      "\n",
      "t h r o w b a c k  2 last fall 🍂 @ UC Berkeley https://t.co/aStbSLJPsl\n",
      "\n"
     ]
    }
   ],
   "source": [
    "# Search for public tweets geotagged near the UC Berkeley campus\n",
    "\n",
    "endpoint = 'search/tweets'\n",
    "params = {\n",
    "    'q': '*', \n",
    "    'geocode': '37.873,-122.260,0.5km', \n",
    "    'count': 5\n",
    "} \n",
    "r = api.request(endpoint, params)\n",
    "\n",
    "for tweet in r.get_iterator():\n",
    "    print tweet['text'] + '\\n'"
   ]
  },
  {
   "cell_type": "markdown",
   "metadata": {},
   "source": [
    "### Exercise\n",
    "\n",
    "1. Try some different search queries!\n",
    "2. Display some more data fields in addition to the tweet text\n",
    "3. Advanced: can you figure out how to use the API to *post* a tweet?\n",
    "\n",
    "Here's the search documentation: https://dev.twitter.com/rest/reference/get/search/tweets\n",
    "\n",
    "\n"
   ]
  },
  {
   "cell_type": "code",
   "execution_count": null,
   "metadata": {
    "collapsed": true
   },
   "outputs": [],
   "source": []
  },
  {
   "cell_type": "code",
   "execution_count": null,
   "metadata": {
    "collapsed": true
   },
   "outputs": [],
   "source": []
  },
  {
   "cell_type": "code",
   "execution_count": null,
   "metadata": {
    "collapsed": true
   },
   "outputs": [],
   "source": []
  },
  {
   "cell_type": "markdown",
   "metadata": {},
   "source": [
    "### Streaming live tweets in real time "
   ]
  },
  {
   "cell_type": "code",
   "execution_count": 53,
   "metadata": {
    "collapsed": false
   },
   "outputs": [
    {
     "name": "stdout",
     "output_type": "stream",
     "text": [
      "Tue Oct 06 06:26:36 +0000 2015\n",
      "Scotland, United Kingdom, United Kingdom\n",
      "@hannykha Welcome back Hannah.\n",
      "\n",
      "Tue Oct 06 06:26:37 +0000 2015\n",
      "Khlong Tan Nuea, Bangkok, ประเทศไทย\n",
      "ไม่อยากต่อความยาวสาวความยืดนะ แต่ถ้านี่เป็นพี่ขวัญจะบีบให้เขาขอโทษ 555555 ดูบิชนะแต่มันคือมารยาทที่สังคมพึงมี ให้จำไว้เป็นบทเรียนด้วย\n",
      "\n",
      "Tue Oct 06 06:26:37 +0000 2015\n",
      "Bengaluru, Karnataka, India\n",
      "@musicnews_shade  WHAT'S WANTED ?? LOL\n",
      "\n",
      "Tue Oct 06 06:26:37 +0000 2015\n",
      "South Carolina, USA, United States\n",
      "SOMEBODY TRYNA CALL ME RIGHT QUICK WHILE I WALK HOME?\n",
      "\n",
      "Tue Oct 06 06:26:37 +0000 2015\n",
      "Limoges, Limousin, France\n",
      "Casseurs Flowteurs avec une grosse pensée à @FunalotPierre et @OrellDelonge 😘\n",
      "\n",
      "Tue Oct 06 06:26:37 +0000 2015\n",
      "New Orleans, LA, United States\n",
      "😩 tripping  https://t.co/2YsYvu6te1\n",
      "\n",
      "Tue Oct 06 06:26:37 +0000 2015\n",
      "Rio de Janeiro, Brasil, Brasil\n",
      "eu não to bem\n",
      "\n",
      "Tue Oct 06 06:26:37 +0000 2015\n",
      "San Antonio, TX, United States\n",
      "Ok I need to shower now. Leave me cute things to get back to. K? K. 😛\n",
      "\n",
      "Tue Oct 06 06:26:36 +0000 2015\n",
      "Coventry, England, United Kingdom\n",
      "Good morning! http://t.co/PcObmvK6mq\n",
      "\n",
      "Tue Oct 06 06:26:37 +0000 2015\n",
      "Copenhagen, Capital Region of Denmark, Danmark\n",
      "#latergram #Copenhagen spent the week having good coffee, commuting by… https://t.co/sHJ6k3qjSd\n",
      "\n",
      "Tue Oct 06 06:26:37 +0000 2015\n",
      "Melbourne, Victoria, Australia\n",
      "@Mel_John84 @thebendingone @watson3votes @Bad_motivator western world maybe\n",
      "\n",
      "Tue Oct 06 06:26:37 +0000 2015\n",
      "Yokosuka, Kanagawa, 日本\n",
      "People really have to get it together. Don't want you. Don't want you.... Like is it a crime to move on? Shit.\n",
      "\n",
      "Tue Oct 06 06:26:37 +0000 2015\n",
      "İstanbul, Türkiye, Türkiye\n",
      "I'm at Ata Plaza https://t.co/ZvG3nQRYV3\n",
      "\n",
      "Tue Oct 06 06:26:37 +0000 2015\n",
      "Silom, Bangkok, ประเทศไทย\n",
      "I'm at Silom Complex (สีลมคอมเพล็กซ์) in Bang Rak, Bangkok https://t.co/ZiFGTzRxgg\n",
      "\n",
      "Tue Oct 06 06:26:37 +0000 2015\n",
      "Tacloban City, Eastern Visayas, Republika ng Pilipinas\n",
      "@mariajay04 hahahaha tampururot ka friend kay bae? Alam mo na demanding kase GMA eh gatasan para sa ekonomiya nila\n",
      "\n",
      "#ALDUBTheDecision\n",
      "\n",
      "Tue Oct 06 06:26:37 +0000 2015\n",
      "Norfolk, VA, United States\n",
      "Overthinking is annoying, so I just try and distract myself from thinking at all.\n",
      "\n",
      "Tue Oct 06 06:26:37 +0000 2015\n",
      "Calgary, Alberta, Canada\n",
      "@marhanaaa di ko na nga alam kung sino yung mga pinapatos ko sa attic! hahaha\n",
      "\n",
      "Tue Oct 06 06:26:37 +0000 2015\n",
      "Omaha, NE, United States\n",
      "I feel like talking some deep shit\n",
      "\n",
      "Tue Oct 06 06:26:37 +0000 2015\n",
      "Merkez, Muğla, Türkiye\n",
      "I'm at Muğla Üniversitesi Turizm Fakültesi in Muğla https://t.co/Aljkw43JiT\n",
      "\n",
      "Tue Oct 06 06:26:37 +0000 2015\n",
      "Calabasas, CA, United States\n",
      "@MaySolomonn HHAHAHAHAHAHAHAHUAHAHAH\n",
      "\n",
      "Tue Oct 06 06:26:37 +0000 2015\n",
      "Vietri sul Mare, Campania, Italia\n",
      "Morning. #smitalia2015 #amalficoast @ Hotel Voce del Mare https://t.co/9ff5MeOJP2\n",
      "\n",
      "Tue Oct 06 06:26:37 +0000 2015\n",
      "Bogotá, Colombia, Colombia\n",
      "A mi novia le dan calambres y se ríe 😍😍😍\n",
      "\n"
     ]
    }
   ],
   "source": [
    "# Twitter limits simultaneous connections to the streaming API,\n",
    "# so this part may not work using the demo API keys during class\n",
    "\n",
    "endpoint = 'statuses/filter'\n",
    "params = {'locations': '-180,-90,180,90'}\n",
    "r = api.request(endpoint, params)\n",
    "\n",
    "# 'enumerate' lets us count tweets as we receive them\n",
    "\n",
    "for i, tweet in enumerate(r.get_iterator()):\n",
    "    print tweet['created_at']\n",
    "    print tweet['place']['full_name'] + ', ' + tweet['place']['country']\n",
    "    print tweet['text'] + '\\n'\n",
    "    if (i > 20): break\n",
    "\n",
    "r.close()  # close streaming connection"
   ]
  },
  {
   "cell_type": "markdown",
   "metadata": {},
   "source": [
    "### Loading tweets into a dataframe"
   ]
  },
  {
   "cell_type": "code",
   "execution_count": 73,
   "metadata": {
    "collapsed": false
   },
   "outputs": [
    {
     "name": "stdout",
     "output_type": "stream",
     "text": [
      "5000\n"
     ]
    }
   ],
   "source": [
    "# first, save some tweets to an array instead of just printing them\n",
    "\n",
    "r = api.request(endpoint, params)\n",
    "tweets = []\n",
    "\n",
    "for i, tweet in enumerate(r.get_iterator()):\n",
    "    if (i >= 500): break\n",
    "    tweets.append(tweet)\n",
    "\n",
    "r.close()\n",
    "print len(tweets)"
   ]
  },
  {
   "cell_type": "code",
   "execution_count": 55,
   "metadata": {
    "collapsed": false
   },
   "outputs": [
    {
     "name": "stdout",
     "output_type": "stream",
     "text": [
      "[{u'contributors': None, u'truncated': False, u'text': u\"I've learned not to sweat the small stuff, if it's something worth stressing over then you have the power to change it.\", u'is_quote_status': False, u'in_reply_to_status_id': None, u'id': 651282410739363840, u'favorite_count': 0, u'source': u'<a href=\"http://twitter.com/download/iphone\" rel=\"nofollow\">Twitter for iPhone</a>', u'retweeted': False, u'coordinates': None, u'timestamp_ms': u'1444112801619', u'entities': {u'user_mentions': [], u'symbols': [], u'hashtags': [], u'urls': []}, u'in_reply_to_screen_name': None, u'id_str': u'651282410739363840', u'retweet_count': 0, u'in_reply_to_user_id': None, u'favorited': False, u'user': {u'follow_request_sent': None, u'profile_use_background_image': False, u'default_profile_image': False, u'id': 2450801982, u'verified': False, u'profile_image_url_https': u'https://pbs.twimg.com/profile_images/645710965237874688/EGgGBKVh_normal.jpg', u'profile_sidebar_fill_color': u'000000', u'profile_text_color': u'000000', u'followers_count': 246, u'profile_sidebar_border_color': u'000000', u'id_str': u'2450801982', u'profile_background_color': u'000000', u'listed_count': 3, u'profile_background_image_url_https': u'https://abs.twimg.com/images/themes/theme10/bg.gif', u'utc_offset': -18000, u'statuses_count': 6640, u'description': u\"UND '19 K\\u0394\", u'friends_count': 226, u'location': u'Grand Forks, ND', u'profile_link_color': u'9266CC', u'profile_image_url': u'http://pbs.twimg.com/profile_images/645710965237874688/EGgGBKVh_normal.jpg', u'following': None, u'geo_enabled': True, u'profile_banner_url': u'https://pbs.twimg.com/profile_banners/2450801982/1443824710', u'profile_background_image_url': u'http://abs.twimg.com/images/themes/theme10/bg.gif', u'name': u'shay', u'lang': u'en', u'profile_background_tile': False, u'favourites_count': 4226, u'screen_name': u'shay597', u'notifications': None, u'url': None, u'created_at': u'Fri Apr 18 04:08:48 +0000 2014', u'contributors_enabled': False, u'time_zone': u'Central Time (US & Canada)', u'protected': False, u'default_profile': False, u'is_translator': False}, u'geo': None, u'in_reply_to_user_id_str': None, u'lang': u'en', u'created_at': u'Tue Oct 06 06:26:41 +0000 2015', u'filter_level': u'low', u'in_reply_to_status_id_str': None, u'place': {u'full_name': u'Grand Forks, ND', u'url': u'https://api.twitter.com/1.1/geo/id/da0b409f35f780db.json', u'country': u'United States', u'place_type': u'city', u'bounding_box': {u'type': u'Polygon', u'coordinates': [[[-97.131525, 47.86007], [-97.131525, 47.954924], [-96.999601, 47.954924], [-96.999601, 47.86007]]]}, u'country_code': u'US', u'attributes': {}, u'id': u'da0b409f35f780db', u'name': u'Grand Forks'}}, {u'contributors': None, u'truncated': False, u'text': u'Muevelo muevelo o o o o\\U0001f3b6 ahr', u'is_quote_status': False, u'in_reply_to_status_id': None, u'id': 651282410512977920, u'favorite_count': 0, u'source': u'<a href=\"http://www.twitter.com\" rel=\"nofollow\">Twitter for Windows Phone</a>', u'retweeted': False, u'coordinates': {u'type': u'Point', u'coordinates': [-64.14885688, -31.44540101]}, u'timestamp_ms': u'1444112801565', u'entities': {u'user_mentions': [], u'symbols': [], u'hashtags': [], u'urls': []}, u'in_reply_to_screen_name': None, u'id_str': u'651282410512977920', u'retweet_count': 0, u'in_reply_to_user_id': None, u'favorited': False, u'user': {u'follow_request_sent': None, u'profile_use_background_image': True, u'default_profile_image': False, u'id': 1932467052, u'verified': False, u'profile_image_url_https': u'https://pbs.twimg.com/profile_images/651092114709835776/RXouYm-O_normal.jpg', u'profile_sidebar_fill_color': u'DDEEF6', u'profile_text_color': u'333333', u'followers_count': 817, u'profile_sidebar_border_color': u'FFFFFF', u'id_str': u'1932467052', u'profile_background_color': u'C0DEED', u'listed_count': 2, u'profile_background_image_url_https': u'https://pbs.twimg.com/profile_background_images/378800000087545180/02f5b7ef9f89f54f0aa6da39aab67876.jpeg', u'utc_offset': -10800, u'statuses_count': 28293, u'description': u'15\\u2661 23/05/15\\u2764|Tauro\\u2649| 3515339207| Talleres de Cordoba\\u2661*-*| Insta: Abriil_milena| Aprende a pasarla bien sola, nacemos y morimos solos.', u'friends_count': 700, u'location': u'Argentina- Cordoba Capital', u'profile_link_color': u'9006B3', u'profile_image_url': u'http://pbs.twimg.com/profile_images/651092114709835776/RXouYm-O_normal.jpg', u'following': None, u'geo_enabled': True, u'profile_banner_url': u'https://pbs.twimg.com/profile_banners/1932467052/1437287145', u'profile_background_image_url': u'http://pbs.twimg.com/profile_background_images/378800000087545180/02f5b7ef9f89f54f0aa6da39aab67876.jpeg', u'name': u'Mile\\u2764', u'lang': u'es', u'profile_background_tile': True, u'favourites_count': 2258, u'screen_name': u'AbriilBenegas', u'notifications': None, u'url': u'https://www.facebook.com/abril.benegas.1', u'created_at': u'Fri Oct 04 00:22:56 +0000 2013', u'contributors_enabled': False, u'time_zone': u'Brasilia', u'protected': False, u'default_profile': False, u'is_translator': False}, u'geo': {u'type': u'Point', u'coordinates': [-31.44540101, -64.14885688]}, u'in_reply_to_user_id_str': None, u'lang': u'es', u'created_at': u'Tue Oct 06 06:26:41 +0000 2015', u'filter_level': u'low', u'in_reply_to_status_id_str': None, u'place': {u'full_name': u'Capital - C\\xf3rdoba, Argentina', u'url': u'https://api.twitter.com/1.1/geo/id/00f84d414936f28e.json', u'country': u'Argentina', u'place_type': u'city', u'bounding_box': {u'type': u'Polygon', u'coordinates': [[[-64.3195, -31.523576], [-64.3195, -31.307337], [-64.076643, -31.307337], [-64.076643, -31.523576]]]}, u'country_code': u'AR', u'attributes': {}, u'id': u'00f84d414936f28e', u'name': u'Capital - C\\xf3rdoba'}}, {u'contributors': None, u'truncated': False, u'text': u'@salicerose  you taught me what it means to dream big but achieve higher \\U0001f64c\\U0001f3fc\\U0001f44f\\U0001f3fc\\U0001f44f\\U0001f3fc\\U0001f44f\\U0001f3fc and ur proven All THESE Haters Wrong', u'is_quote_status': False, u'in_reply_to_status_id': None, u'id': 651282410802294784, u'favorite_count': 0, u'source': u'<a href=\"http://twitter.com/download/iphone\" rel=\"nofollow\">Twitter for iPhone</a>', u'retweeted': False, u'coordinates': None, u'timestamp_ms': u'1444112801634', u'entities': {u'user_mentions': [{u'id': 1708948962, u'indices': [0, 11], u'id_str': u'1708948962', u'screen_name': u'salicerose', u'name': u'Salice Rose'}], u'symbols': [], u'hashtags': [], u'urls': []}, u'in_reply_to_screen_name': u'salicerose', u'id_str': u'651282410802294784', u'retweet_count': 0, u'in_reply_to_user_id': 1708948962, u'favorited': False, u'user': {u'follow_request_sent': None, u'profile_use_background_image': True, u'default_profile_image': False, u'id': 2561855018, u'verified': False, u'profile_image_url_https': u'https://pbs.twimg.com/profile_images/650320356410920961/uM9xJ_mk_normal.jpg', u'profile_sidebar_fill_color': u'DDEEF6', u'profile_text_color': u'333333', u'followers_count': 264, u'profile_sidebar_border_color': u'C0DEED', u'id_str': u'2561855018', u'profile_background_color': u'C0DEED', u'listed_count': 2, u'profile_background_image_url_https': u'https://abs.twimg.com/images/themes/theme1/bg.png', u'utc_offset': None, u'statuses_count': 5619, u'description': u'TILL THE DAY WE MEET AGAIN BABY CMLOPEZ', u'friends_count': 379, u'location': u'westside\\u2022. AYSIA MOBB', u'profile_link_color': u'0084B4', u'profile_image_url': u'http://pbs.twimg.com/profile_images/650320356410920961/uM9xJ_mk_normal.jpg', u'following': None, u'geo_enabled': True, u'profile_banner_url': u'https://pbs.twimg.com/profile_banners/2561855018/1443882788', u'profile_background_image_url': u'http://abs.twimg.com/images/themes/theme1/bg.png', u'name': u'\\u0625\\u064a\\u0631\\u064a\\u0643\\u0627', u'lang': u'en', u'profile_background_tile': False, u'favourites_count': 4777, u'screen_name': u'_Lovelykeez', u'notifications': None, u'url': u'http://iamkeez.tumblr.com', u'created_at': u'Wed Jun 11 18:27:42 +0000 2014', u'contributors_enabled': False, u'time_zone': None, u'protected': False, u'default_profile': True, u'is_translator': False}, u'geo': None, u'in_reply_to_user_id_str': u'1708948962', u'lang': u'en', u'created_at': u'Tue Oct 06 06:26:41 +0000 2015', u'filter_level': u'low', u'in_reply_to_status_id_str': None, u'place': {u'full_name': u'Muscoy, CA', u'url': u'https://api.twitter.com/1.1/geo/id/27c600780fa2209e.json', u'country': u'United States', u'place_type': u'city', u'bounding_box': {u'type': u'Polygon', u'coordinates': [[[-117.364882, 34.135984], [-117.364882, 34.169882], [-117.331056, 34.169882], [-117.331056, 34.135984]]]}, u'country_code': u'US', u'attributes': {}, u'id': u'27c600780fa2209e', u'name': u'Muscoy'}}, {u'contributors': None, u'truncated': False, u'text': u'I hate the fact that I get scared easily maaaaan', u'is_quote_status': False, u'in_reply_to_status_id': None, u'id': 651282410881978368, u'favorite_count': 0, u'source': u'<a href=\"http://twitter.com/download/android\" rel=\"nofollow\">Twitter for Android</a>', u'retweeted': False, u'coordinates': None, u'timestamp_ms': u'1444112801653', u'entities': {u'user_mentions': [], u'symbols': [], u'hashtags': [], u'urls': []}, u'in_reply_to_screen_name': None, u'id_str': u'651282410881978368', u'retweet_count': 0, u'in_reply_to_user_id': None, u'favorited': False, u'user': {u'follow_request_sent': None, u'profile_use_background_image': True, u'default_profile_image': False, u'id': 3000320311, u'verified': False, u'profile_image_url_https': u'https://pbs.twimg.com/profile_images/649487744914227200/bxUNTIFK_normal.jpg', u'profile_sidebar_fill_color': u'DDEEF6', u'profile_text_color': u'333333', u'followers_count': 236, u'profile_sidebar_border_color': u'C0DEED', u'id_str': u'3000320311', u'profile_background_color': u'C0DEED', u'listed_count': 2, u'profile_background_image_url_https': u'https://abs.twimg.com/images/themes/theme1/bg.png', u'utc_offset': None, u'statuses_count': 6772, u'description': u'DBM', u'friends_count': 218, u'location': u'Los Angeles', u'profile_link_color': u'0084B4', u'profile_image_url': u'http://pbs.twimg.com/profile_images/649487744914227200/bxUNTIFK_normal.jpg', u'following': None, u'geo_enabled': True, u'profile_banner_url': u'https://pbs.twimg.com/profile_banners/3000320311/1441176334', u'profile_background_image_url': u'http://abs.twimg.com/images/themes/theme1/bg.png', u'name': u'Kim M.', u'lang': u'en', u'profile_background_tile': False, u'favourites_count': 1076, u'screen_name': u'Kimbooboo_', u'notifications': None, u'url': None, u'created_at': u'Thu Jan 29 02:10:05 +0000 2015', u'contributors_enabled': False, u'time_zone': None, u'protected': False, u'default_profile': True, u'is_translator': False}, u'geo': None, u'in_reply_to_user_id_str': None, u'lang': u'en', u'created_at': u'Tue Oct 06 06:26:41 +0000 2015', u'filter_level': u'low', u'in_reply_to_status_id_str': None, u'place': {u'full_name': u'Commerce, CA', u'url': u'https://api.twitter.com/1.1/geo/id/be347aa731d4353b.json', u'country': u'United States', u'place_type': u'city', u'bounding_box': {u'type': u'Polygon', u'coordinates': [[[-118.193396, 33.970521], [-118.193396, 34.019619], [-118.121279, 34.019619], [-118.121279, 33.970521]]]}, u'country_code': u'US', u'attributes': {}, u'id': u'be347aa731d4353b', u'name': u'Commerce'}}, {u'contributors': None, u'truncated': False, u'text': u'Ulangan jam set 3 nanti, mangats! http://t.co/6RZllUmjtL', u'is_quote_status': False, u'in_reply_to_status_id': None, u'id': 651282410416410624, u'favorite_count': 0, u'source': u'<a href=\"http://twitter.com/download/android\" rel=\"nofollow\">Twitter for Android</a>', u'retweeted': False, u'coordinates': None, u'timestamp_ms': u'1444112801542', u'entities': {u'user_mentions': [], u'symbols': [], u'hashtags': [], u'urls': [], u'media': [{u'expanded_url': u'http://twitter.com/naufallds/status/651282410416410624/photo/1', u'display_url': u'pic.twitter.com/6RZllUmjtL', u'url': u'http://t.co/6RZllUmjtL', u'media_url_https': u'https://pbs.twimg.com/media/CQnR3yJUEAAYqD_.jpg', u'id_str': u'651282377415593984', u'sizes': {u'small': {u'h': 255, u'resize': u'fit', u'w': 340}, u'large': {u'h': 768, u'resize': u'fit', u'w': 1024}, u'medium': {u'h': 450, u'resize': u'fit', u'w': 600}, u'thumb': {u'h': 150, u'resize': u'crop', u'w': 150}}, u'indices': [34, 56], u'type': u'photo', u'id': 651282377415593984, u'media_url': u'http://pbs.twimg.com/media/CQnR3yJUEAAYqD_.jpg'}]}, u'in_reply_to_screen_name': None, u'id_str': u'651282410416410624', u'retweet_count': 0, u'in_reply_to_user_id': None, u'favorited': False, u'user': {u'follow_request_sent': None, u'profile_use_background_image': True, u'default_profile_image': False, u'id': 395705044, u'verified': False, u'profile_image_url_https': u'https://pbs.twimg.com/profile_images/646985440638009344/K6tvjtHx_normal.jpg', u'profile_sidebar_fill_color': u'DDEEF6', u'profile_text_color': u'333333', u'followers_count': 736, u'profile_sidebar_border_color': u'FFFFFF', u'id_str': u'395705044', u'profile_background_color': u'DD2E44', u'listed_count': 1, u'profile_background_image_url_https': u'https://pbs.twimg.com/profile_background_images/754974420/96492106887f8166315497e057b2b8ae.gif', u'utc_offset': -25200, u'statuses_count': 9613, u'description': u'A Bassist of @VENADEAtng | i love challenges', u'friends_count': 244, u'location': u'Dibalik Hari Esok', u'profile_link_color': u'DD2E44', u'profile_image_url': u'http://pbs.twimg.com/profile_images/646985440638009344/K6tvjtHx_normal.jpg', u'following': None, u'geo_enabled': True, u'profile_banner_url': u'https://pbs.twimg.com/profile_banners/395705044/1442845652', u'profile_background_image_url': u'http://pbs.twimg.com/profile_background_images/754974420/96492106887f8166315497e057b2b8ae.gif', u'name': u'Naufal-kun', u'lang': u'id', u'profile_background_tile': True, u'favourites_count': 47, u'screen_name': u'naufallds', u'notifications': None, u'url': u'http://www.soundcloud.com/naufal-dwisanjaya', u'created_at': u'Sat Oct 22 03:23:06 +0000 2011', u'contributors_enabled': False, u'time_zone': u'Pacific Time (US & Canada)', u'protected': False, u'default_profile': False, u'is_translator': False}, u'geo': None, u'in_reply_to_user_id_str': None, u'possibly_sensitive': True, u'lang': u'in', u'created_at': u'Tue Oct 06 06:26:41 +0000 2015', u'filter_level': u'low', u'in_reply_to_status_id_str': None, u'place': {u'full_name': u'Tigaraksa, Banten', u'url': u'https://api.twitter.com/1.1/geo/id/2d6ed816e358bcad.json', u'country': u'Indonesia', u'place_type': u'city', u'bounding_box': {u'type': u'Polygon', u'coordinates': [[[106.449676, -6.339762], [106.449676, -6.19691], [106.53672, -6.19691], [106.53672, -6.339762]]]}, u'country_code': u'ID', u'attributes': {}, u'id': u'2d6ed816e358bcad', u'name': u'Tigaraksa'}, u'extended_entities': {u'media': [{u'expanded_url': u'http://twitter.com/naufallds/status/651282410416410624/photo/1', u'display_url': u'pic.twitter.com/6RZllUmjtL', u'url': u'http://t.co/6RZllUmjtL', u'media_url_https': u'https://pbs.twimg.com/media/CQnR3yJUEAAYqD_.jpg', u'id_str': u'651282377415593984', u'sizes': {u'small': {u'h': 255, u'resize': u'fit', u'w': 340}, u'large': {u'h': 768, u'resize': u'fit', u'w': 1024}, u'medium': {u'h': 450, u'resize': u'fit', u'w': 600}, u'thumb': {u'h': 150, u'resize': u'crop', u'w': 150}}, u'indices': [34, 56], u'type': u'photo', u'id': 651282377415593984, u'media_url': u'http://pbs.twimg.com/media/CQnR3yJUEAAYqD_.jpg'}]}}]\n"
     ]
    }
   ],
   "source": [
    "# the raw data is very messy though!\n",
    "\n",
    "print tweets[0:5]"
   ]
  },
  {
   "cell_type": "code",
   "execution_count": 74,
   "metadata": {
    "collapsed": false
   },
   "outputs": [
    {
     "name": "stdout",
     "output_type": "stream",
     "text": [
      "998\n"
     ]
    }
   ],
   "source": [
    "# we'll pull out some pieces into a dataframe\n",
    "\n",
    "# first, set up a dictionary of empty arrays\n",
    "d = {'place': [], 'latitude': [], 'longitude': []}\n",
    "\n",
    "for t in tweets:\n",
    "    try:\n",
    "        # first check whether the fields we want exist\n",
    "        _test = t['coordinates']['coordinates']\n",
    "        \n",
    "        # then pull out the data\n",
    "        d['place'].append(t['place']['name'])\n",
    "        d['latitude'].append(t['coordinates']['coordinates'][1])\n",
    "        d['longitude'].append(t['coordinates']['coordinates'][0])\n",
    "        \n",
    "    except:\n",
    "        # if the test failed, continue to next tweet\n",
    "        continue\n",
    "\n",
    "# load it into a dataframe\n",
    "df = pd.DataFrame.from_dict(d)\n",
    "\n",
    "print len(df)"
   ]
  },
  {
   "cell_type": "code",
   "execution_count": 70,
   "metadata": {
    "collapsed": false
   },
   "outputs": [
    {
     "name": "stdout",
     "output_type": "stream",
     "text": [
      "    latitude   longitude                place\n",
      "0  -7.332000  110.509540              Tingkir\n",
      "1  35.185259 -111.655590            Flagstaff\n",
      "2  34.492600 -117.351930  Mountain View Acres\n",
      "3  50.818800    3.338635             Zwevegem\n",
      "4  40.976127   29.096884             İstanbul\n"
     ]
    }
   ],
   "source": [
    "print df.head()"
   ]
  },
  {
   "cell_type": "code",
   "execution_count": 77,
   "metadata": {
    "collapsed": false
   },
   "outputs": [
    {
     "data": {
      "text/plain": [
       "<matplotlib.axes._subplots.AxesSubplot at 0x110b12290>"
      ]
     },
     "execution_count": 77,
     "metadata": {},
     "output_type": "execute_result"
    },
    {
     "data": {
      "image/png": "[encoded data removed]",
      "text/plain": [
       "<matplotlib.figure.Figure at 0x110ac5e50>"
      ]
     },
     "metadata": {},
     "output_type": "display_data"
    }
   ],
   "source": [
    "df.plot(x='longitude', y='latitude', kind='scatter')"
   ]
  },
  {
   "cell_type": "code",
   "execution_count": 76,
   "metadata": {
    "collapsed": false
   },
   "outputs": [],
   "source": [
    "# Note that when working with text strings that include characters from \n",
    "# other alphabets, you sometimes need to specify the text encoding.\n",
    "\n",
    "# Some interesting related reading:\n",
    "# - http://www.joelonsoftware.com/articles/Unicode.html\n",
    "\n",
    "df.to_csv('saved_coords.csv', encoding='utf-8')"
   ]
  },
  {
   "cell_type": "code",
   "execution_count": null,
   "metadata": {
    "collapsed": true
   },
   "outputs": [],
   "source": []
  },
  {
   "cell_type": "code",
   "execution_count": null,
   "metadata": {
    "collapsed": true
   },
   "outputs": [],
   "source": []
  },
  {
   "cell_type": "code",
   "execution_count": null,
   "metadata": {
    "collapsed": true
   },
   "outputs": [],
   "source": []
  },
  {
   "cell_type": "markdown",
   "metadata": {},
   "source": [
    "### Exercise\n",
    "\n",
    "Choose one:\n",
    "\n",
    "1. Using one of the APIs from this demo, save and graph a different aspect of the data.  \n",
    "   &nbsp;\n",
    "\n",
    "2. Or, search the web for another API that provides data you're interested in. Can you figure out how to connect to it?\n",
    "\n",
    "Some common terms for describing these APIs that operate over the web are \"HTTP\" and \"REST\". The most frequent data format is JSON, but with some code modifications you can parse other formats as well."
   ]
  },
  {
   "cell_type": "code",
   "execution_count": null,
   "metadata": {
    "collapsed": true
   },
   "outputs": [],
   "source": []
  },
  {
   "cell_type": "code",
   "execution_count": null,
   "metadata": {
    "collapsed": true
   },
   "outputs": [],
   "source": []
  },
  {
   "cell_type": "code",
   "execution_count": null,
   "metadata": {
    "collapsed": true
   },
   "outputs": [],
   "source": []
  }
 ],
 "metadata": {
  "kernelspec": {
   "display_name": "Python 2",
   "language": "python",
   "name": "python2"
  },
  "language_info": {
   "codemirror_mode": {
    "name": "ipython",
    "version": 2
   },
   "file_extension": ".py",
   "mimetype": "text/x-python",
   "name": "python",
   "nbconvert_exporter": "python",
   "pygments_lexer": "ipython2",
   "version": "2.7.10"
  }
 },
 "nbformat": 4,
 "nbformat_minor": 0
}
